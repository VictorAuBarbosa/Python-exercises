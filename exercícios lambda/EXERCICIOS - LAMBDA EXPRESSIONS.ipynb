{
 "cells": [
  {
   "cell_type": "markdown",
   "id": "a89c014e",
   "metadata": {},
   "source": [
    "### Exercícios de Lambda Expressions\n",
    "####   ***** Tente fazer sozinho antes de consultar  *****"
   ]
  },
  {
   "cell_type": "markdown",
   "id": "8061fbc9",
   "metadata": {},
   "source": [
    "#### Exercício 1:\n",
    "Crie uma expressão lambda que retorne o quadrado de um número."
   ]
  },
  {
   "cell_type": "code",
   "execution_count": 2,
   "id": "395f7952",
   "metadata": {},
   "outputs": [
    {
     "name": "stdout",
     "output_type": "stream",
     "text": [
      "81\n"
     ]
    }
   ],
   "source": [
    "numero = int(input(\"Digite um número para elevar ao quadrado: \"))\n",
    "quadrado = lambda elevar: elevar ** 2\n",
    "\n",
    "resultado = quadrado(numero)\n",
    "print(resultado)"
   ]
  },
  {
   "cell_type": "markdown",
   "id": "1bbe7872",
   "metadata": {},
   "source": [
    "#### Exercício 2:\n",
    "Escreva uma expressão lambda que verifique se um número é par.\n"
   ]
  },
  {
   "cell_type": "code",
   "execution_count": 3,
   "id": "7abd8103",
   "metadata": {},
   "outputs": [
    {
     "name": "stdout",
     "output_type": "stream",
     "text": [
      "Par\n"
     ]
    }
   ],
   "source": [
    "numero = int(input('Digite um número para verificar se é par ou não: '))\n",
    "\n",
    "lambda_par = lambda par: \"Par\" if par % 2 == 0 else \"Ímpar\"\n",
    "\n",
    "final = lambda_par(numero)\n",
    "\n",
    "print(final)\n"
   ]
  },
  {
   "cell_type": "markdown",
   "id": "6437f95e",
   "metadata": {},
   "source": [
    "#### Exercício 3:\n",
    "Crie uma expressão lambda que calcule a média de três números."
   ]
  },
  {
   "cell_type": "code",
   "execution_count": 5,
   "id": "aa73c6e5",
   "metadata": {},
   "outputs": [
    {
     "name": "stdout",
     "output_type": "stream",
     "text": [
      "A média dos três números que VOCÊ digitou é: 49.666666666666664\n"
     ]
    }
   ],
   "source": [
    "media = lambda a, b, c: (a + b + c) / 3\n",
    "\n",
    "a = float(input(\"Vamos calcular a média de três número. Então, digite o primeiro número: \"))\n",
    "b = float(input(\"Digite o segundo número: \"))\n",
    "c = float(input(\"Digite o terceiro número: \"))\n",
    "\n",
    "resultado = media(a, b, c)\n",
    "\n",
    "print(\"A média dos três números que VOCÊ digitou é:\", resultado)"
   ]
  },
  {
   "cell_type": "code",
   "execution_count": null,
   "id": "a2247544",
   "metadata": {},
   "outputs": [],
   "source": []
  }
 ],
 "metadata": {
  "kernelspec": {
   "display_name": "Python 3 (ipykernel)",
   "language": "python",
   "name": "python3"
  },
  "language_info": {
   "codemirror_mode": {
    "name": "ipython",
    "version": 3
   },
   "file_extension": ".py",
   "mimetype": "text/x-python",
   "name": "python",
   "nbconvert_exporter": "python",
   "pygments_lexer": "ipython3",
   "version": "3.11.3"
  }
 },
 "nbformat": 4,
 "nbformat_minor": 5
}
