{
 "cells": [
  {
   "cell_type": "markdown",
   "id": "d1096e68",
   "metadata": {},
   "source": [
    "# Exercícios de tuplas "
   ]
  },
  {
   "cell_type": "markdown",
   "id": "32c8fef7",
   "metadata": {},
   "source": [
    "## Esses exercícios ajudarão você a praticar o uso de dicionários em diferentes contextos e situações. Experimente resolver cada um deles para aprimorar suas habilidades em manipulação de dicionários em Python."
   ]
  },
  {
   "cell_type": "markdown",
   "id": "4a90b37f",
   "metadata": {},
   "source": [
    "# Exercício 1: Contagem de Palavras\n",
    "### Crie uma função que recebe uma string como entrada e retorna um dicionário onde as chaves são as palavras da string e os valores são a contagem de vezes que cada palavra aparece."
   ]
  },
  {
   "cell_type": "code",
   "execution_count": 2,
   "id": "ff702f47",
   "metadata": {},
   "outputs": [],
   "source": [
    "def count_words(text):\n",
    "\n",
    "  words = text.split()\n",
    "  word_count = {}\n",
    "  for word in words:\n",
    "    if word not in word_count:\n",
    "      word_count[word] = 1\n",
    "    else:\n",
    "      word_count[word] += 1\n",
    "\n",
    "  return word_count\n"
   ]
  },
  {
   "cell_type": "markdown",
   "id": "946d6af0",
   "metadata": {},
   "source": [
    "# Exercício 2: Registro de Alunos\n",
    "### Crie um programa que permite registrar informações sobre alunos, como nome, idade e nota. Use um dicionário para armazenar essas informações e permita que o usuário adicione novos alunos e visualize os detalhes dos alunos existentes."
   ]
  },
  {
   "cell_type": "code",
   "execution_count": null,
   "id": "4bbebc70",
   "metadata": {},
   "outputs": [
    {
     "name": "stdout",
     "output_type": "stream",
     "text": [
      "1. Adicionar aluno\n",
      "2. Visualizar detalhes do aluno\n",
      "3. Sair\n"
     ]
    }
   ],
   "source": [
    "students = {}\n",
    "\n",
    "def add_student(name, age, grade):\n",
    "\n",
    "  students[name] = {\n",
    "    \"age\": age,\n",
    "    \"grade\": grade\n",
    "  }\n",
    "\n",
    "def get_student_details(name):\n",
    "\n",
    "\n",
    "  if name in students:\n",
    "    return students[name]\n",
    "  else:\n",
    "    return None\n",
    "\n",
    "def main():\n",
    "\n",
    "  while True:\n",
    "    print(\"1. Adicionar aluno\")\n",
    "    print(\"2. Visualizar detalhes do aluno\")\n",
    "    print(\"3. Sair\")\n",
    "\n",
    "    choice = int(input(\"Escolha uma opção: \"))\n",
    "\n",
    "    if choice == 1:\n",
    "      name = input(\"Digite o nome do aluno: \")\n",
    "      age = input(\"Digite a idade do aluno: \")\n",
    "      grade = input(\"Digite a nota do aluno: \")\n",
    "      add_student(name, age, grade)\n",
    "    elif choice == 2:\n",
    "      name = input(\"Digite o nome do aluno: \")\n",
    "      details = get_student_details(name)\n",
    "      if details is not None:\n",
    "        print(\"Nome:\", details[\"name\"])\n",
    "        print(\"Idade:\", details[\"age\"])\n",
    "        print(\"Nota:\", details[\"grade\"])\n",
    "      else:\n",
    "        print(\"Aluno não encontrado.\")\n",
    "    elif choice == 3:\n",
    "      break\n",
    "\n",
    "if __name__ == \"__main__\":\n",
    "  main()\n"
   ]
  },
  {
   "cell_type": "markdown",
   "id": "0a7de75b",
   "metadata": {},
   "source": [
    "# Exercício 3: Tradutor Simples\n",
    "### Crie um dicionário que mapeie algumas palavras em inglês para suas traduções em outro idioma. Peça ao usuário para digitar uma palavra em inglês e exiba a tradução correspondente."
   ]
  },
  {
   "cell_type": "code",
   "execution_count": 1,
   "id": "370a137c",
   "metadata": {},
   "outputs": [],
   "source": [
    "dictionary = {\n",
    "  \"hello\": \"olá\",\n",
    "  \"goodbye\": \"tchau\",\n",
    "  \"thank you\": \"obrigado\",\n",
    "  \"you're welcome\": \"de nada\",\n",
    "  \"please\": \"por favor\",\n",
    "  \"excuse me\": \"com licença\",\n",
    "  \"how are you?\": \"como vai?\",\n",
    "  \"I'm fine\": \"estou bem\",\n",
    "  \"what's your name?\": \"qual é o seu nome?\",\n",
    "  \"my name is\": \"meu nome é\"\n",
    "}\n",
    "word = input(\"Digite uma palavra em inglês: \")\n",
    "if word in dictionary:\n",
    "  print(dictionary[word])\n",
    "else:\n",
    "  print(\"A palavra não está no dicionário.\")"
   ]
  },
  {
   "cell_type": "markdown",
   "id": "d9d590bc",
   "metadata": {},
   "source": [
    "# Exercício 4: Estoque de Produtos\n",
    "### Crie um programa que simule o controle de estoque de uma loja. Use um dicionário onde as chaves são os nomes dos produtos e os valores são as quantidades em estoque. Permita que o usuário adicione ou remova produtos e atualize as quantidades."
   ]
  },
  {
   "cell_type": "code",
   "execution_count": null,
   "id": "f93311d7",
   "metadata": {},
   "outputs": [],
   "source": [
    "stock = {\n",
    "  \"maçã\": 10,\n",
    "  \"banana\": 5,\n",
    "  \"laranja\": 20\n",
    "}\n",
    "\n",
    "while True:\n",
    "  print(\"1. Adicionar produto\")\n",
    "  print(\"2. Remover produto\")\n",
    "  print(\"3. Atualizar quantidade\")\n",
    "  print(\"4. Visualizar estoque\")\n",
    "  print(\"5. Sair\")\n",
    "\n",
    "  choice = int(input(\"Escolha uma opção: \"))\n",
    "\n",
    "  if choice == 1:\n",
    "    name = input(\"Digite o nome do produto: \")\n",
    "    quantity = int(input(\"Digite a quantidade do produto: \"))\n",
    "    stock[name] = quantity\n",
    "  elif choice == 2:\n",
    "    name = input(\"Digite o nome do produto: \")\n",
    "    if name in stock:\n",
    "      del stock[name]\n",
    "    else:\n",
    "      print(\"O produto não existe no estoque.\")\n",
    "  elif choice == 3:\n",
    "    name = input(\"Digite o nome do produto: \")\n",
    "    if name in stock:\n",
    "      quantity = int(input(\"Digite a nova quantidade do produto: \"))\n",
    "      stock[name] = quantity\n",
    "    else:\n",
    "      print(\"O produto não existe no estoque.\")\n",
    "  elif choice == 4:\n",
    "    print(\"O estoque é:\")\n",
    "    for name, quantity in stock.items():\n",
    "      print(name, \"->\", quantity)\n",
    "  elif choice == 5:\n",
    "    break\n"
   ]
  },
  {
   "cell_type": "markdown",
   "id": "31c34736",
   "metadata": {},
   "source": [
    "# Exercício 5: Contagem de Caracteres\n",
    "### Crie uma função que recebe uma string e retorna um dicionário onde as chaves são os caracteres da string e os valores são a contagem de vezes que cada caracter aparece."
   ]
  },
  {
   "cell_type": "code",
   "execution_count": null,
   "id": "70d8c2c6",
   "metadata": {},
   "outputs": [],
   "source": [
    "def count_characters(string):\n",
    "\n",
    "  character_count = {}\n",
    "  for character in string:\n",
    "    if character not in character_count:\n",
    "      character_count[character] = 1\n",
    "    else:\n",
    "      character_count[character] += 1\n",
    "\n",
    "  return character_count\n"
   ]
  },
  {
   "cell_type": "markdown",
   "id": "8b8d8f05",
   "metadata": {},
   "source": [
    "# Exercício 6: Agenda de Contatos\n",
    "### Crie um programa que simule uma agenda de contatos. Use um dicionário onde as chaves são os nomes das pessoas e os valores são seus números de telefone. Permita que o usuário adicione, atualize e remova contatos."
   ]
  },
  {
   "cell_type": "code",
   "execution_count": null,
   "id": "5f5609fe",
   "metadata": {},
   "outputs": [],
   "source": [
    "contacts = {\n",
    "  \"João da Silva\": \"1234567890\",\n",
    "  \"Maria da Costa\": \"9876543210\"\n",
    "}\n",
    "\n",
    "while True:\n",
    "  print(\"1. Adicionar contato\")\n",
    "  print(\"2. Atualizar contato\")\n",
    "  print(\"3. Remover contato\")\n",
    "  print(\"4. Visualizar contatos\")\n",
    "  print(\"5. Sair\")\n",
    "\n",
    "  choice = int(input(\"Escolha uma opção: \"))\n",
    "\n",
    "  if choice == 1:\n",
    "    name = input(\"Digite o nome do contato: \")\n",
    "    phone_number = input(\"Digite o número de telefone do contato: \")\n",
    "    contacts[name] = phone_number\n",
    "  elif choice == 2:\n",
    "    name = input(\"Digite o nome do contato que você deseja atualizar: \")\n",
    "    phone_number = input(\"Digite o novo número de telefone do contato: \")\n",
    "    contacts[name] = phone_number\n",
    "  elif choice == 3:\n",
    "    name = input(\"Digite o nome do contato que você deseja remover: \")\n",
    "    del contacts[name]\n",
    "  elif choice == 4:\n",
    "    print(\"Contatos:\")\n",
    "    for name, phone_number in contacts.items():\n",
    "      print(name, \"->\", phone_number)\n",
    "  elif choice == 5:\n",
    "    break\n"
   ]
  },
  {
   "cell_type": "markdown",
   "id": "dfe9aa0c",
   "metadata": {},
   "source": [
    "# Exercício 7: Notas de Alunos\n",
    "### Crie um programa que permite registrar as notas de alunos em várias disciplinas. Use um dicionário aninhado, onde as chaves externas são os nomes dos alunos e as chaves internas são as disciplinas. Permita que o usuário adicione notas e visualize as médias dos alunos."
   ]
  },
  {
   "cell_type": "code",
   "execution_count": null,
   "id": "8e10caaa",
   "metadata": {},
   "outputs": [],
   "source": [
    "students = {\n",
    "  \"João da Silva\": {\n",
    "    \"Matemática\": 9,\n",
    "    \"História\": 8,\n",
    "    \"Português\": 7\n",
    "  },\n",
    "  \"Maria da Costa\": {\n",
    "    \"Matemática\": 10,\n",
    "    \"História\": 9,\n",
    "    \"Português\": 8\n",
    "  }\n",
    "}\n",
    "\n",
    "while True:\n",
    "  print(\"1. Adicionar nota\")\n",
    "  print(\"2. Visualizar médias\")\n",
    "  print(\"3. Sair\")\n",
    "\n",
    "  choice = int(input(\"Escolha uma opção: \"))\n",
    "\n",
    "  if choice == 1:\n",
    "    name = input(\"Digite o nome do aluno: \")\n",
    "    subject = input(\"Digite a disciplina: \")\n",
    "    grade = int(input(\"Digite a nota: \"))\n",
    "    students[name][subject] = grade\n",
    "  elif choice == 2:\n",
    "    name = input(\"Digite o nome do aluno: \")\n",
    "    total = 0\n",
    "    for subject, grade in students[name].items():\n",
    "      total += grade\n",
    "    average = total / len(students[name])\n",
    "    print(\"A média do aluno\", name, \"é\", average)\n",
    "  elif choice == 3:\n",
    "    break\n"
   ]
  },
  {
   "cell_type": "markdown",
   "id": "c81f0cb4",
   "metadata": {},
   "source": [
    "# Exercício 8: Contagem de Letras em Palavras\n",
    "### Crie uma função que recebe uma lista de palavras e retorna um dicionário onde as chaves são as letras presentes nas palavras e os valores são a contagem total de vezes que cada letra aparece."
   ]
  },
  {
   "cell_type": "code",
   "execution_count": 1,
   "id": "5f058fef",
   "metadata": {},
   "outputs": [],
   "source": [
    "def count_letters(words):\n",
    "\n",
    "  letter_counts = {}\n",
    "  for word in words:\n",
    "    for letter in word:\n",
    "      if letter not in letter_counts:\n",
    "        letter_counts[letter] = 1\n",
    "      else:\n",
    "        letter_counts[letter] += 1\n",
    "\n",
    "  return letter_counts\n"
   ]
  },
  {
   "cell_type": "markdown",
   "id": "ac2a2456",
   "metadata": {},
   "source": [
    "# Exercício 9: Calculadora de Despesas\n",
    "### Crie um programa que simule o controle de despesas de um grupo de amigos. Use um dicionário onde as chaves são os nomes dos amigos e os valores são listas de despesas. Permita que o usuário adicione despesas e calcule quanto cada pessoa deve pagar."
   ]
  },
  {
   "cell_type": "code",
   "execution_count": null,
   "id": "9987e73e",
   "metadata": {},
   "outputs": [],
   "source": [
    "expenses = {\n",
    "  \"João\": [10, 20, 30],\n",
    "  \"Maria\": [50, 60, 70]\n",
    "}\n",
    "\n",
    "while True:\n",
    "  print(\"1. Adicionar despesa\")\n",
    "  print(\"2. Visualizar saldo\")\n",
    "  print(\"3. Sair\")\n",
    "\n",
    "  choice = int(input(\"Escolha uma opção: \"))\n",
    "\n",
    "  if choice == 1:\n",
    "    name = input(\"Digite o nome do amigo: \")\n",
    "    amount = int(input(\"Digite o valor da despesa: \"))\n",
    "    expenses[name].append(amount)\n",
    "  elif choice == 2:\n",
    "    name = input(\"Digite o nome do amigo: \")\n",
    "    total = 0\n",
    "    for amount in expenses[name]:\n",
    "      total += amount\n",
    "    print(\"O saldo do amigo\", name, \"é\", total)\n",
    "  elif choice == 3:\n",
    "    break\n"
   ]
  },
  {
   "cell_type": "markdown",
   "id": "07c1ee0b",
   "metadata": {},
   "source": [
    "# Exercício 10: Jogo de Trívia\n",
    "### Crie um jogo de trívia em que o programa faz perguntas e o usuário responde. Use um dicionário onde as chaves são as perguntas e os valores são as respostas corretas. Mostre as perguntas ao usuário, solicite a resposta e informe se ele acertou ou errou."
   ]
  },
  {
   "cell_type": "code",
   "execution_count": null,
   "id": "0d47f9f5",
   "metadata": {},
   "outputs": [],
   "source": [
    "questions = {\n",
    "  \"Qual é a capital da França?\": \"Paris\",\n",
    "  \"Qual é o nome do presidente dos Estados Unidos?\": \"Joe Biden\",\n",
    "  \"Qual é a fórmula da água?\": \"H2O\"\n",
    "}\n",
    "\n",
    "score = 0\n",
    "\n",
    "for question, answer in questions.items():\n",
    "  print(question)\n",
    "  user_answer = input(\"Qual é sua resposta? \")\n",
    "  if user_answer == answer:\n",
    "    print(\"Acertou!\")\n",
    "    score += 1\n",
    "  else:\n",
    "    print(\"Errou!\")\n",
    "\n",
    "print(\"Sua pontuação é\", score)\n"
   ]
  }
 ],
 "metadata": {
  "kernelspec": {
   "display_name": "Python 3 (ipykernel)",
   "language": "python",
   "name": "python3"
  },
  "language_info": {
   "codemirror_mode": {
    "name": "ipython",
    "version": 3
   },
   "file_extension": ".py",
   "mimetype": "text/x-python",
   "name": "python",
   "nbconvert_exporter": "python",
   "pygments_lexer": "ipython3",
   "version": "3.11.3"
  }
 },
 "nbformat": 4,
 "nbformat_minor": 5
}
