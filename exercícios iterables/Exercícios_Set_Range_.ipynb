{
 "cells": [
  {
   "cell_type": "markdown",
   "metadata": {
    "id": "rsCcO7j-xv-T"
   },
   "source": [
    "# Exercícios iterables - set - range"
   ]
  },
  {
   "cell_type": "markdown",
   "metadata": {
    "id": "p15zoqjcx_E0"
   },
   "source": [
    "\n",
    "\n",
    "\n",
    "\n",
    "\n",
    "\n",
    "\n",
    "\n",
    "\n",
    "."
   ]
  },
  {
   "cell_type": "markdown",
   "metadata": {
    "id": "KwqaC7qlxpsE"
   },
   "source": [
    "# Vamos mergulhar em uma jornada empolgante pelo mundo da programação em Python, explorando dois métodos poderosos: set() e range(). Vamos entender por que esses métodos são essenciais e como eles podem ser aplicados em várias situações para resolver problemas de maneira eficaz e elegante."
   ]
  },
  {
   "cell_type": "code",
   "execution_count": null,
   "metadata": {
    "id": "0ODmnhidtw-Q"
   },
   "outputs": [],
   "source": []
  },
  {
   "cell_type": "code",
   "execution_count": null,
   "metadata": {
    "id": "pbRVWhjYtxAQ"
   },
   "outputs": [],
   "source": []
  },
  {
   "cell_type": "markdown",
   "metadata": {
    "id": "P9Aqv322t_p4"
   },
   "source": [
    "Um usuário deseja gerar um conjunto de números de 0 até o valor que ele fornece como entrada. Ele quer ver a sequência de números até esse ponto.\n",
    "\n",
    "Exercício 1:\n",
    "Peça ao usuário para digitar um número inteiro. Use o método range() para gerar os números de 0 até esse número e, em seguida, crie um conjunto (set()) a partir desses números. Finalmente, exiba o conjunto resultante."
   ]
  },
  {
   "cell_type": "code",
   "execution_count": 1,
   "metadata": {
    "id": "zciq4waE_w95"
   },
   "outputs": [
    {
     "name": "stdout",
     "output_type": "stream",
     "text": [
      "Digite um número int: 5\n",
      "Conjunto resultante: {0, 1, 2, 3, 4, 5}\n"
     ]
    }
   ],
   "source": [
    "numero = int(input('Digite um número int: '))\n",
    "\n",
    "conjunto_resultante = set()\n",
    "for i in range(numero + 1):\n",
    "    conjunto_resultante.add(i)\n",
    "    \n",
    "print(\"Conjunto resultante:\", conjunto_resultante)"
   ]
  },
  {
   "cell_type": "markdown",
   "metadata": {
    "id": "2u4CTx1xuNm4"
   },
   "source": [
    "Um professor quer criar um conjunto de notas dos alunos em uma faixa específica. Ele deseja saber as notas únicas nessa faixa.\n",
    "\n",
    "Exercício 2:\n",
    "Peça ao usuário para digitar um intervalo de notas, por exemplo, de 0 a 100. Utilize o método range() para gerar uma lista de notas nesse intervalo. Converta essa lista em um conjunto (set()) e exiba-o."
   ]
  },
  {
   "cell_type": "code",
   "execution_count": 3,
   "metadata": {
    "id": "JKUTpK54_xh4"
   },
   "outputs": [
    {
     "name": "stdout",
     "output_type": "stream",
     "text": [
      "Digite a nota inicial: 5\n",
      "Digite a nota final: 40\n",
      "Conjunto de notas:  {5, 6, 7, 8, 9, 10, 11, 12, 13, 14, 15, 16, 17, 18, 19, 20, 21, 22, 23, 24, 25, 26, 27, 28, 29, 30, 31, 32, 33, 34, 35, 36, 37, 38, 39, 40}\n"
     ]
    }
   ],
   "source": [
    "nota_inicial = int(input(\"Digite a nota inicial: \"))\n",
    "nota_final = int(input(\"Digite a nota final: \"))\n",
    "\n",
    "lista_notas = list(range(nota_inicial, nota_final + 1))\n",
    "conjunto_notas = set(lista_notas)\n",
    "\n",
    "print(\"Conjunto de notas: \", conjunto_notas)"
   ]
  },
  {
   "cell_type": "markdown",
   "metadata": {
    "id": "DDIDT61luYpt"
   },
   "source": [
    "Você está organizando um evento onde precisa distribuir números de identificação únicos para os participantes. Cada número deve ser par e estar dentro de um certo intervalo.\n",
    "\n",
    "Exercício 3:\n",
    "Defina um intervalo de números, como de 10 a 50. Utilize o método range() para gerar uma lista de números pares dentro desse intervalo. Converta essa lista em um conjunto (set()) e exiba-o."
   ]
  },
  {
   "cell_type": "markdown",
   "metadata": {
    "id": "F_UWT9ID_zmZ"
   },
   "source": []
  },
  {
   "cell_type": "code",
   "execution_count": 16,
   "metadata": {
    "id": "H9JGpLnU_y3x"
   },
   "outputs": [
    {
     "name": "stdout",
     "output_type": "stream",
     "text": [
      "Esses são os números pares nesse conjunto: {32, 34, 36, 38, 40, 42, 44, 46, 48, 50, 52, 54, 56, 58, 60, 30}\n"
     ]
    }
   ],
   "source": [
    "intervalo = [30, 31, 32 ,33, 34, 35, 36, 37, 38, 39, 40, 41, 42, 43, 44, 45, 46, 47, 48, 49, 50, 51, 52, 53, 54, 55, 56 ,57, 58, 59, 60]\n",
    "\n",
    "numeros_pares = []\n",
    "\n",
    "for numero in intervalo:\n",
    "    if numero % 2 == 0:\n",
    "        numeros_pares.append(numero)\n",
    "        \n",
    "list_num = set(numeros_pares)\n",
    "\n",
    "print('Esses são os números pares nesse conjunto: {}'.format(list_num))"
   ]
  },
  {
   "cell_type": "markdown",
   "metadata": {
    "id": "BMmP5QubujDM"
   },
   "source": [
    "Um usuário deseja saber todos os divisores de um número inteiro que ele fornece. Ele está interessado apenas nos divisores até a raiz quadrada desse número.\n",
    "\n",
    "Exercício 4:\n",
    "Peça ao usuário para digitar um número inteiro. Utilize o método range() para iterar sobre os números de 1 até a raiz quadrada desse número. Se o número for divisível por um valor no intervalo, adicione-o a um conjunto (set()) de divisores. Exiba o conjunto resultante."
   ]
  },
  {
   "cell_type": "code",
   "execution_count": 20,
   "metadata": {},
   "outputs": [
    {
     "name": "stdout",
     "output_type": "stream",
     "text": [
      "Digite um número inteiro: 144\n",
      "Conjunto de divisores: {1, 2, 3, 4, 36, 6, 72, 8, 9, 12, 144, 48, 18, 16, 24}\n"
     ]
    }
   ],
   "source": [
    "import math\n",
    "\n",
    "numero = int(input(\"Digite um número inteiro: \"))\n",
    "\n",
    "divisores = set()\n",
    "\n",
    "for i in range(1, int(math.sqrt(numero)) + 1):\n",
    "    if numero % i == 0:\n",
    "        divisores.add(i)\n",
    "        divisores.add(numero // i)\n",
    "\n",
    "print(\"Conjunto de divisores:\", divisores)"
   ]
  },
  {
   "cell_type": "markdown",
   "metadata": {
    "id": "J7c5jaSfvRLA"
   },
   "source": [
    "Exercício 5:  Desenvolva um programa que gere um conjunto de letras únicas em uma string dada, utilizando o método set() e um loop sobre a string utilizando o range()."
   ]
  },
  {
   "cell_type": "code",
   "execution_count": 29,
   "metadata": {
    "id": "cq2F4fDj_1IA"
   },
   "outputs": [
    {
     "name": "stdout",
     "output_type": "stream",
     "text": [
      "Digite uma frase que represente sua vida: verdade\n",
      "Esse é o conjunto de letras da frase que representa sua vida:  {'r', 'a', 'd', 'e', 'v'}\n"
     ]
    }
   ],
   "source": [
    "string = str(input('Digite uma frase que represente sua vida: '))\n",
    "\n",
    "str_armazenada = set()\n",
    "\n",
    "for i in range(len(string)):\n",
    "    str_armazenada.add(string[i])\n",
    "\n",
    "print('Esse é o conjunto de letras da frase que representa sua vida: ', str_armazenada)"
   ]
  },
  {
   "cell_type": "markdown",
   "metadata": {
    "id": "BaO0w4pevrjx"
   },
   "source": [
    "Exercício 6:\n",
    "Situação-Problema: Um professor deseja manter um registro dos livros lidos por seus alunos durante o ano. Ele quer um conjunto de títulos únicos dos livros."
   ]
  },
  {
   "cell_type": "code",
   "execution_count": 31,
   "metadata": {
    "id": "gSt7kLbK_21A"
   },
   "outputs": [
    {
     "name": "stdout",
     "output_type": "stream",
     "text": [
      "Digite o título do livro (ou 'sair' para parar): Pequeno Príncipe\n",
      "Digite o título do livro (ou 'sair' para parar): sair\n",
      "Títulos dos livros lidos: {'Pequeno Príncipe'}\n"
     ]
    }
   ],
   "source": [
    "livros_lidos = set()\n",
    "\n",
    "while True:\n",
    "    titulo = input(\"Digite o título do livro (ou 'sair' para parar): \")\n",
    "    \n",
    "    if titulo.lower() == 'sair':\n",
    "        break\n",
    "    \n",
    "    livros_lidos.add(titulo)\n",
    "\n",
    "print(\"Títulos dos livros lidos:\", livros_lidos)"
   ]
  },
  {
   "cell_type": "markdown",
   "metadata": {
    "id": "esuu-ylmwHkc"
   },
   "source": [
    "Exercício 7:\n",
    "Situação-Problema: Um programador está verificando erros de digitação em um trecho de código. Ela quer encontrar todas as teclas únicas pressionadas durante a digitação."
   ]
  },
  {
   "cell_type": "code",
   "execution_count": 35,
   "metadata": {
    "id": "enrccPgP_53w"
   },
   "outputs": [
    {
     "name": "stdout",
     "output_type": "stream",
     "text": [
      "Digite a tecla (ou 'sair' para parar): a\n",
      "Digite a tecla (ou 'sair' para parar): g\n",
      "Digite a tecla (ou 'sair' para parar): d\n",
      "Digite a tecla (ou 'sair' para parar): t\n",
      "Digite a tecla (ou 'sair' para parar): sair\n",
      "Teclas únicas pressionadas: {'t', 'a', 'd', 'g'}\n"
     ]
    }
   ],
   "source": [
    "teclas_unicas = set()\n",
    "\n",
    "while True:\n",
    "    tecla = input(\"Digite a tecla (ou 'sair' para parar): \")\n",
    "    \n",
    "    if tecla.lower() == 'sair':\n",
    "        break\n",
    "    \n",
    "    teclas_unicas.add(tecla)\n",
    "\n",
    "print(\"Teclas únicas pressionadas:\", teclas_unicas)"
   ]
  },
  {
   "cell_type": "markdown",
   "metadata": {
    "id": "3_XLTZG4wQXN"
   },
   "source": [
    "Exercício 8:\n",
    "Situação-Problema: Um jogador de palavras cruzadas deseja saber todas as letras únicas que ele já utilizou em suas palavras."
   ]
  },
  {
   "cell_type": "code",
   "execution_count": 4,
   "metadata": {
    "id": "nndjeLXo_5YI"
   },
   "outputs": [
    {
     "name": "stdout",
     "output_type": "stream",
     "text": [
      "Digite a palavra (ou 'sair' para parar): ramon\n",
      "Digite a palavra (ou 'sair' para parar): don\n",
      "Digite a palavra (ou 'sair' para parar): sair\n",
      "Teclas únicas pressionadas: {'a', 'n', 'o', 'm', 'd', 'r'}\n"
     ]
    }
   ],
   "source": [
    "palavras = set()\n",
    "\n",
    "while True:\n",
    "    palavra = input(\"Digite a palavra (ou 'sair' para parar): \")\n",
    "    \n",
    "    if palavra.lower() == 'sair':\n",
    "        break\n",
    "    \n",
    "    for letra in palavra:\n",
    "        if letra.isalpha():\n",
    "            palavras.add(letra.lower())\n",
    "\n",
    "print(\"Teclas únicas pressionadas:\", palavras)"
   ]
  },
  {
   "cell_type": "markdown",
   "metadata": {
    "id": "7kzPhQEmwaUO"
   },
   "source": [
    "Exercício 9:\n",
    "Situação-Problema: Um gerente de loja deseja criar um programa de fidelidade. Ele quer manter um registro único dos números de telefone dos clientes que realizam compras."
   ]
  },
  {
   "cell_type": "code",
   "execution_count": 1,
   "metadata": {
    "id": "4DmZP3dm_8aQ"
   },
   "outputs": [
    {
     "name": "stdout",
     "output_type": "stream",
     "text": [
      "Digite o número de telefone do cliente (ou 'sair' para parar): 65846\n",
      "Digite o número de telefone do cliente (ou 'sair' para parar): sair\n",
      "Números de telefone únicos registrados: {'65846'}\n"
     ]
    }
   ],
   "source": [
    "numeros_telefone = set()\n",
    "\n",
    "while True:\n",
    "    numero = input(\"Digite o número de telefone do cliente (ou 'sair' para parar): \")\n",
    "    \n",
    "    if numero.lower() == 'sair':\n",
    "        break\n",
    "    \n",
    "    numeros_telefone.add(numero)\n",
    "\n",
    "print(\"Números de telefone únicos registrados:\", numeros_telefone)"
   ]
  },
  {
   "cell_type": "markdown",
   "metadata": {
    "id": "d_RYimcpweye"
   },
   "source": [
    "Exercício 10:\n",
    "Situação-Problema: Você está organizando um torneio esportivo e precisa criar um conjunto de equipes únicas que se inscreveram."
   ]
  },
  {
   "cell_type": "code",
   "execution_count": 34,
   "metadata": {
    "id": "g5NIxrFw_83I"
   },
   "outputs": [
    {
     "name": "stdout",
     "output_type": "stream",
     "text": [
      "Digite o nome da equipe 1: pain\n",
      "Digite o nome da equipe 2: imperial\n",
      "Digite o nome da equipe 3: furia\n",
      "Digite o nome da equipe 4: navi\n",
      "Digite o nome da equipe 5: g2\n",
      "Digite o nome da equipe 6: loud\n",
      "Digite o nome da equipe 7: mibr\n",
      "Digite o nome da equipe 8: sk\n",
      "Chaveamento do campeonato:\n",
      "navi vs mibr\n",
      "sk vs imperial\n",
      "furia vs g2\n",
      "loud vs pain\n",
      "\n",
      "O time vencedor é: pain\n"
     ]
    }
   ],
   "source": [
    "import random\n",
    "\n",
    "equipes = set()\n",
    "\n",
    "while len(equipes) < 8:\n",
    "    equipe = input(f\"Digite o nome da equipe {len(equipes) + 1}: \")\n",
    "    equipes.add(equipe)\n",
    "\n",
    "lista_equipes = list(equipes)\n",
    "\n",
    "random.shuffle(lista_equipes)\n",
    "\n",
    "print(\"Chaveamento do campeonato:\")\n",
    "for i in range(0, len(lista_equipes), 2):\n",
    "    equipe1 = lista_equipes[i]\n",
    "    equipe2 = lista_equipes[i + 1] if i + 1 < len(lista_equipes) else \"BYE\"\n",
    "    print(f\"{equipe1} vs {equipe2}\")\n",
    "\n",
    "time_vencedor = random.choice(lista_equipes)\n",
    "print(\"\\nO time vencedor é:\", time_vencedor)"
   ]
  },
  {
   "cell_type": "markdown",
   "metadata": {
    "id": "9A3ObHIhuoJ4"
   },
   "source": []
  }
 ],
 "metadata": {
  "colab": {
   "provenance": []
  },
  "kernelspec": {
   "display_name": "Python 3 (ipykernel)",
   "language": "python",
   "name": "python3"
  },
  "language_info": {
   "codemirror_mode": {
    "name": "ipython",
    "version": 3
   },
   "file_extension": ".py",
   "mimetype": "text/x-python",
   "name": "python",
   "nbconvert_exporter": "python",
   "pygments_lexer": "ipython3",
   "version": "3.11.3"
  }
 },
 "nbformat": 4,
 "nbformat_minor": 1
}
