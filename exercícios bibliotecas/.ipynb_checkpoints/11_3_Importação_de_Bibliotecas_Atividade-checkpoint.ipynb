{
 "cells": [
  {
   "cell_type": "markdown",
   "metadata": {
    "id": "7cSjkBggT5jc"
   },
   "source": [
    "# **Exercício 1:**\n",
    "\n",
    "---\n",
    "\n",
    "Faça um programa que calcule a raiz quadrada de um número inteiro fornecido pelo usuário. Utilize a biblioteca math para realizar o cálculo."
   ]
  },
  {
   "cell_type": "code",
   "execution_count": 1,
   "metadata": {
    "id": "Z_bnJxYGT0_o"
   },
   "outputs": [
    {
     "name": "stdout",
     "output_type": "stream",
     "text": [
      "A raiz quadrada de 121 é 11.0\n"
     ]
    }
   ],
   "source": [
    "import math\n",
    "\n",
    "numero = int(input('Digite um número inteiro para calcularmos sua raiz quadrada: '))\n",
    "\n",
    "resultado = math.sqrt(numero)\n",
    "\n",
    "print('A raiz quadrada de {} é {}'.format(numero, resultado))"
   ]
  },
  {
   "cell_type": "markdown",
   "metadata": {
    "id": "Sa1-LWktUG_z"
   },
   "source": [
    "# **Exercício 2:**\n",
    "\n",
    "---\n",
    "\n",
    "Crie um programa que gere um número aleatório entre 1 e 100 e peça ao usuário para adivinhar qual é esse número. Utilize a biblioteca random para gerar o número aleatório."
   ]
  },
  {
   "cell_type": "code",
   "execution_count": 5,
   "metadata": {
    "id": "9iOJpg0_ULDC"
   },
   "outputs": [
    {
     "name": "stdout",
     "output_type": "stream",
     "text": [
      "Tente um número maior.\n",
      "Tente um número maior.\n",
      "Tente um número menor.\n",
      "Tente um número maior.\n",
      "Tente um número menor.\n",
      "Tente um número menor.\n",
      "Tente um número menor.\n",
      "Tente um número menor.\n",
      "Tente um número menor.\n",
      "Tente um número menor.\n",
      "Tente um número maior.\n",
      "Tente um número maior.\n",
      "Parabéns! Você adivinhou o número 45 em 13 tentativas.\n"
     ]
    }
   ],
   "source": [
    "import random\n",
    "\n",
    "numero = random.randint(1, 100) \n",
    "tentativas = 0\n",
    "\n",
    "while True:\n",
    "    adivinhar = int(input('Vamos jogar um jogo de adivinhação. Escolhemos aleatoriamente um número entre 1 e 100. Tente adivinhar o número: '))\n",
    "\n",
    "    tentativas += 1\n",
    "\n",
    "    if adivinhar < 1 or adivinhar > 100:\n",
    "        print('Por favor, escolha um número entre 1 e 100.')\n",
    "    elif adivinhar < numero:\n",
    "        print('Tente um número maior.')\n",
    "    elif adivinhar > numero:\n",
    "        print('Tente um número menor.')\n",
    "    else:\n",
    "        print('Parabéns! Você adivinhou o número {} em {} tentativas.'.format(numero, tentativas))\n",
    "        break\n"
   ]
  },
  {
   "cell_type": "markdown",
   "metadata": {
    "id": "vrAwGLX3UXLq"
   },
   "source": [
    "# **Exercício 3:**\n",
    "\n",
    "---\n",
    "Crie um programa que simule um lançamento de dados. O programa deve gerar um número aleatório entre 1 e 6, representando o valor do dado. Utilizar função randint da biblioteca random"
   ]
  },
  {
   "cell_type": "code",
   "execution_count": 7,
   "metadata": {
    "id": "h2MVf6arUdtz"
   },
   "outputs": [
    {
     "name": "stdout",
     "output_type": "stream",
     "text": [
      "girando dado...\n",
      "girando dado...\n",
      "girando dado...\n",
      "O número do dado foi 4.\n"
     ]
    }
   ],
   "source": [
    "import random\n",
    "import time\n",
    "\n",
    "numero = random.randint(1, 6)\n",
    "\n",
    "print('girando dado...')\n",
    "time.sleep(0.5)\n",
    "print('girando dado...')\n",
    "time.sleep(0.5)\n",
    "print('girando dado...')\n",
    "time.sleep(0.5)\n",
    "print('O número do dado foi {}.'.format(numero))"
   ]
  },
  {
   "cell_type": "markdown",
   "metadata": {
    "id": "RA7LpHIHUgcT"
   },
   "source": [
    "# **Exercício 4:**\n",
    "\n",
    "---\n",
    "Faça um programa que calcule a área de um círculo. O usuário deve fornecer o raio do círculo como entrada. Utilize a biblioteca math para obter o valor de π (pi)."
   ]
  },
  {
   "cell_type": "code",
   "execution_count": 13,
   "metadata": {
    "colab": {
     "base_uri": "https://localhost:8080/"
    },
    "id": "P5X-NK9gUmJT",
    "outputId": "f9a9a301-c690-444f-feb2-7aa5a3695429"
   },
   "outputs": [
    {
     "name": "stdout",
     "output_type": "stream",
     "text": [
      "A área do circulo é de: 78.5\n"
     ]
    }
   ],
   "source": [
    "import math\n",
    "\n",
    "raio = int(input('Vamos calcular a área do circulo. Forneça-nos o raio digitando acima para realizarmos esse calculo: '))\n",
    "area = math.pi * math.pow(raio, 2)\n",
    "\n",
    "print('A área do circulo é de: {:.1f}'.format(area))"
   ]
  },
  {
   "cell_type": "markdown",
   "metadata": {
    "id": "8hhvsHCOUn9T"
   },
   "source": [
    "# **Exercício 5:**\n",
    "\n",
    "---\n",
    "Crie um programa que solicite ao usuário um nome de arquivo e, em seguida, leia o conteúdo desse arquivo e conte quantas palavras diferentes existem no texto. Utilize Counter da biblioteca collections para ajudar na contagem.\n",
    "\n",
    "python\n",
    "C"
   ]
  },
  {
   "cell_type": "code",
   "execution_count": null,
   "metadata": {
    "id": "01QBl5HWU2xj"
   },
   "outputs": [],
   "source": []
  },
  {
   "cell_type": "markdown",
   "metadata": {
    "id": "-xrV_RJ9U_g7"
   },
   "source": [
    "# **Exercício 6:**\n",
    "\n",
    "---\n",
    "Crie um programa que solicite ao usuário uma lista de números separados por vírgula e exiba a média desses números. Utilize a função mean da biblioteca statistics."
   ]
  },
  {
   "cell_type": "code",
   "execution_count": 14,
   "metadata": {
    "id": "0gGOdi8mVFAL"
   },
   "outputs": [
    {
     "name": "stdout",
     "output_type": "stream",
     "text": [
      "A média dos números é: 186.66666666666666\n"
     ]
    }
   ],
   "source": [
    "import statistics as stat\n",
    "\n",
    "numeros = []\n",
    "\n",
    "while True:\n",
    "    entrada = input('Digite um número para adicionar à lista (ou pressione Enter para encerrar a entrada): ')\n",
    "    \n",
    "    if entrada == \"\":\n",
    "        break\n",
    "    \n",
    "    try:\n",
    "        numero = float(entrada)\n",
    "        numeros.append(numero)\n",
    "    except ValueError:\n",
    "        print(\"Entrada inválida. Por favor, digite um número válido.\")\n",
    "\n",
    "if len(numeros) > 0:\n",
    "    media = stat.mean(numeros)\n",
    "    print(f'A média dos números é: {media}')\n",
    "else:\n",
    "    print(\"Nenhum número foi inserido.\")"
   ]
  },
  {
   "cell_type": "markdown",
   "metadata": {
    "id": "CO26JglHXDPs"
   },
   "source": [
    "# **Exercício 7:**\n",
    "\n",
    "---\n",
    "Crie um programa usando a biblioteca tkinter que exiba uma janela com um botão. Quando o botão for clicado, exiba uma mensagem de saudação usando a função messagebox.showinfo().\n"
   ]
  },
  {
   "cell_type": "code",
   "execution_count": null,
   "metadata": {
    "id": "UQTtWO8SVf7S"
   },
   "outputs": [],
   "source": []
  },
  {
   "cell_type": "markdown",
   "metadata": {
    "id": "0raBCu6fXafW"
   },
   "source": [
    "# **Exercício 8:**\n",
    "\n",
    "---\n",
    "Crie um programa usando a biblioteca tkinter que exiba uma janela com um rótulo de texto e um campo de entrada. Quando o botão for clicado, obtenha o texto do campo de entrada usando a função .get() e exiba uma mensagem de boas-vindas personalizada usando a função messagebox.showinfo().\n"
   ]
  },
  {
   "cell_type": "code",
   "execution_count": null,
   "metadata": {
    "id": "UgiISJlkXexi"
   },
   "outputs": [],
   "source": []
  },
  {
   "cell_type": "markdown",
   "metadata": {
    "id": "0NytGTyOXjtD"
   },
   "source": [
    "# **Exercício 9:**\n",
    "\n",
    "---\n",
    "Crie um programa usando a biblioteca tkinter que exiba uma janela com uma caixa de seleção e um botão. Quando o botão for clicado, obtenha a opção selecionada da caixa de seleção usando a variável associada e exiba-a em uma caixa de diálogo usando a função messagebox.showinfo()."
   ]
  },
  {
   "cell_type": "code",
   "execution_count": null,
   "metadata": {
    "id": "n7LtC33EXpuy"
   },
   "outputs": [],
   "source": []
  },
  {
   "cell_type": "markdown",
   "metadata": {
    "id": "qoozLEBUZeDa"
   },
   "source": [
    "# **Exercício 10:**\n",
    "\n",
    "---\n",
    "Crie um programa que utilize a biblioteca pandas para ler um arquivo CSV chamado \"dados.csv\". O arquivo contém uma coluna chamada \"idade\". Calcule a média das idades utilizando o método .mean() e exiba o resultado.\n",
    "\n",
    "[Link para a Documentação do Pandas](https://pandas.pydata.org/docs/reference/api/pandas.read_csv.html)\n"
   ]
  },
  {
   "cell_type": "code",
   "execution_count": null,
   "metadata": {
    "id": "56Mo2YGCZjg5"
   },
   "outputs": [],
   "source": []
  },
  {
   "cell_type": "markdown",
   "metadata": {
    "id": "CrGJ4bNpZkl5"
   },
   "source": [
    "# **Exercício 11:**\n",
    "\n",
    "---\n",
    "Crie um programa que utilize as bibliotecas pandas e matplotlib para ler um arquivo CSV chamado \"dados.csv\". O arquivo contém duas colunas: \"nome\" e \"pontuacao\". Exiba um gráfico de barras utilizando o método .bar() do matplotlib.pyplot, passando os nomes como valores no eixo x e as pontuações como valores no eixo y.\n",
    "\n",
    "[Link para a Documentação do Pandas](https://pandas.pydata.org/docs/reference/api/pandas.read_csv.html)\n",
    "\n",
    "[Link para a documentação do matplotlib](https://matplotlib.org/stable/api/_as_gen/matplotlib.pyplot.bar.html)"
   ]
  },
  {
   "cell_type": "code",
   "execution_count": null,
   "metadata": {
    "id": "fX2Psu7AaNBT"
   },
   "outputs": [],
   "source": []
  }
 ],
 "metadata": {
  "colab": {
   "provenance": []
  },
  "kernelspec": {
   "display_name": "Python 3 (ipykernel)",
   "language": "python",
   "name": "python3"
  },
  "language_info": {
   "codemirror_mode": {
    "name": "ipython",
    "version": 3
   },
   "file_extension": ".py",
   "mimetype": "text/x-python",
   "name": "python",
   "nbconvert_exporter": "python",
   "pygments_lexer": "ipython3",
   "version": "3.11.3"
  }
 },
 "nbformat": 4,
 "nbformat_minor": 1
}
