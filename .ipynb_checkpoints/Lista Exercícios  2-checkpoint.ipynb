{
 "cells": [
  {
   "cell_type": "markdown",
   "id": "a220e4e2",
   "metadata": {},
   "source": [
    "# Exercícios do Módulo 5 - Metódo .format"
   ]
  },
  {
   "cell_type": "markdown",
   "id": "737f7ee0",
   "metadata": {},
   "source": [
    "## Crie programas em python para atender as especificações abaixo."
   ]
  },
  {
   "cell_type": "markdown",
   "id": "33904d99",
   "metadata": {},
   "source": [
    "#####\n",
    "\n",
    "\n",
    "\n",
    "\n",
    "\n",
    "\n"
   ]
  },
  {
   "cell_type": "markdown",
   "id": "6f2fae2c",
   "metadata": {},
   "source": [
    "####"
   ]
  },
  {
   "cell_type": "markdown",
   "id": "b9d7d65b",
   "metadata": {},
   "source": [
    "# 1 - Faça um programa que peça o nome de um país, a capital e o idioma oficial e exiba uma mensagem com essas informações."
   ]
  },
  {
   "cell_type": "code",
   "execution_count": 2,
   "id": "1b62af10",
   "metadata": {},
   "outputs": [
    {
     "name": "stdout",
     "output_type": "stream",
     "text": [
      "Eu moro na Angola, em sua capital Luanda, e o melhor é que estou falando a lingua deles Melhor português.\n"
     ]
    }
   ],
   "source": [
    "pais = 'Angola'\n",
    "capital = 'Luanda'\n",
    "idioma = 'Melhor português'\n",
    "\n",
    "print('Eu moro na {}, em sua capital {}, e o melhor é que estou falando a lingua deles {}.'.format(pais, capital, idioma) )"
   ]
  },
  {
   "cell_type": "markdown",
   "id": "5d617672",
   "metadata": {},
   "source": [
    "# 2 - Escreva um programa que peça dois números e exiba a soma deles."
   ]
  },
  {
   "cell_type": "code",
   "execution_count": 6,
   "id": "2c842c57",
   "metadata": {},
   "outputs": [
    {
     "name": "stdout",
     "output_type": "stream",
     "text": [
      "Digite o primeiro número para obter a soma 10\n",
      "Digite o segundo número para a soma 5\n",
      "A soma dos números 10 e 5 é 15\n"
     ]
    }
   ],
   "source": [
    "numero1 = int(input('Digite o primeiro número para obter a soma '))\n",
    "numero2 = int(input('Digite o segundo número para a soma '))\n",
    "\n",
    "print('A soma dos números {} e {} é {}'.format(numero1, numero2, (numero1 + numero2)))"
   ]
  },
  {
   "cell_type": "markdown",
   "id": "78770cac",
   "metadata": {},
   "source": [
    "# 3 - Faça um programa que solicite o nome e a idade do usuário e exiba uma mensagem personalizada."
   ]
  },
  {
   "cell_type": "code",
   "execution_count": 4,
   "id": "85cc64da",
   "metadata": {},
   "outputs": [
    {
     "name": "stdout",
     "output_type": "stream",
     "text": [
      "Digite seu nome sergio\n",
      "Digite sua idade 10\n",
      "O seu nome é sergio e sua idade é 10\n"
     ]
    }
   ],
   "source": [
    "nome = \"\"\n",
    "idade = \"\"\n",
    "\n",
    "nome = input('Digite seu nome {}'.format(nome))\n",
    "idade = input('Digite sua idade {}'.format(idade))\n",
    "\n",
    "print('O seu nome é {} e sua idade é {}'.format(nome, idade))"
   ]
  },
  {
   "cell_type": "markdown",
   "id": "259a4bbf",
   "metadata": {},
   "source": [
    "# 4 - Crie duas variáveis para armazenar valores numéricos e exiba o resultado da soma."
   ]
  },
  {
   "cell_type": "code",
   "execution_count": null,
   "id": "2d4313e9",
   "metadata": {},
   "outputs": [],
   "source": [
    "numero1 = 7\n",
    "numero2 = 7\n",
    "\n",
    "print('A soma dos números {} e {} é {}'.format(numero1, numero2, (numero1 + numero2)))"
   ]
  },
  {
   "cell_type": "markdown",
   "id": "a4b642fa",
   "metadata": {},
   "source": [
    "# 5 -  Escreva um programa que peça o nome do usuário e exiba uma mensagem de boas-vindas."
   ]
  },
  {
   "cell_type": "code",
   "execution_count": null,
   "id": "dfee06bd",
   "metadata": {},
   "outputs": [],
   "source": [
    "nome1 = \"\"\n",
    "nome1 = str(input('Digite seu nome {}'.format(nome1)))\n",
    "\n",
    "print('Seja bem-vindo à Nada, {}'.format(nome1))"
   ]
  },
  {
   "cell_type": "markdown",
   "id": "1aa984cf",
   "metadata": {},
   "source": [
    "#  6 - Você foi contratado para desenvolver um programa que auxilie um petshop a gerar mensagens personalizadas para seus clientes. O programa deve solicitar algumas informações do cliente e, em seguida, exibir uma mensagem customizada com base nos dados fornecidos.\n",
    "\n",
    "O programa deve conter as seguintes etapas:\n",
    "\n",
    "Solicitar ao usuário que digite seu nome, o nome do seu pet (animal de estimação) e a espécie do pet (por exemplo, cachorro, gato, pássaro, etc.).\n",
    "\n",
    "Em seguida, peça ao usuário que informe a idade do pet em anos.\n",
    "\n",
    "Solicite também ao usuário que informe se o pet já tomou todas as vacinas obrigatórias (responda com \"Sim\" ou \"Não\").\n",
    "\n",
    "Com base nas informações coletadas, o programa deve gerar uma mensagem personalizada para o cliente. A mensagem deve incluir o nome do cliente, o nome do pet, a espécie do pet, sua idade em anos e se já tomou todas as vacinas obrigatórias."
   ]
  },
  {
   "cell_type": "code",
   "execution_count": 4,
   "id": "72c15eff",
   "metadata": {},
   "outputs": [
    {
     "ename": "SyntaxError",
     "evalue": "invalid syntax. Perhaps you forgot a comma? (808204431.py, line 16)",
     "output_type": "error",
     "traceback": [
      "\u001b[1;36m  Cell \u001b[1;32mIn[4], line 16\u001b[1;36m\u001b[0m\n\u001b[1;33m    print('{}, o seu {} cujo o nome é {} e idade {}, foi encaminhado para o tráfico de animais. Status de vacina do pet em dia: {}.'\u001b[0m\n\u001b[1;37m          ^\u001b[0m\n\u001b[1;31mSyntaxError\u001b[0m\u001b[1;31m:\u001b[0m invalid syntax. Perhaps you forgot a comma?\n"
     ]
    }
   ],
   "source": [
    "nomeDono = \"\"\n",
    "nomeDono = input('Qual é o seu nome?')\n",
    "\n",
    "nomePet = \"\"\n",
    "nomePet = input('Digite a idade do pet:')\n",
    "\n",
    "espécie = \"\"\n",
    "espécie = input('Qual é a espécie do seu pet?')\n",
    "\n",
    "idadePet = \"\"\n",
    "idadePet = input('Digite a idade de seu pet:')\n",
    "\n",
    "vacina = \"\"\n",
    "vacina = input('Seu pet já tomou todas as vacinas obrigatórias? obs: Responda com Sim ou Não')\n",
    "\n",
    "print('{}, o seu {} cujo o nome é {} e idade {}, foi encaminhado para o tráfico de animais. Status de vacina do pet em dia: {}.'\n",
    "      format(nomeDono, espécie, nomePet, idadePet, vacina))\n"
   ]
  },
  {
   "cell_type": "code",
   "execution_count": null,
   "id": "9f5bc4fb",
   "metadata": {},
   "outputs": [],
   "source": []
  }
 ],
 "metadata": {
  "kernelspec": {
   "display_name": "Python 3 (ipykernel)",
   "language": "python",
   "name": "python3"
  },
  "language_info": {
   "codemirror_mode": {
    "name": "ipython",
    "version": 3
   },
   "file_extension": ".py",
   "mimetype": "text/x-python",
   "name": "python",
   "nbconvert_exporter": "python",
   "pygments_lexer": "ipython3",
   "version": "3.11.3"
  }
 },
 "nbformat": 4,
 "nbformat_minor": 5
}
