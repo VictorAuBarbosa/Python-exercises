{
 "cells": [
  {
   "cell_type": "markdown",
   "metadata": {
    "id": "Z1hD5bNOu3vl"
   },
   "source": [
    "# Exercícios\n",
    "\n",
    "## 1. Faturamento do Melhor e do Pior Mês do Ano\n",
    "\n",
    "Qual foi o valor de vendas do melhor mês do Ano?\n",
    "E valor do pior mês do ano?"
   ]
  },
  {
   "cell_type": "code",
   "execution_count": 1,
   "metadata": {
    "id": "3bMW-13qu3vn"
   },
   "outputs": [
    {
     "name": "stdout",
     "output_type": "stream",
     "text": [
      "O melhor mês de vendas foi nov com um valor de 49051\n",
      "O pior mês de vendas foi dez com um valor de 9650\n"
     ]
    }
   ],
   "source": [
    "meses = ['jan', 'fev', 'mar', 'abr', 'mai', 'jun', 'jul', 'ago', 'set', 'out', 'nov', 'dez']\n",
    "vendas_1sem = [25000, 29000, 22200, 17750, 15870, 19900]\n",
    "vendas_2sem = [19850, 20120, 17540, 15555, 49051, 9650]\n",
    "\n",
    "vendasAno = vendas_1sem + vendas_2sem\n",
    "\n",
    "melhor_mes_valor = max(vendasAno)\n",
    "pior_mes_valor = min(vendasAno)\n",
    "\n",
    "melhor_mes_index = vendasAno.index(melhor_mes_valor)\n",
    "pior_mes_index = vendasAno.index(pior_mes_valor)\n",
    "\n",
    "melhor_mes = meses[melhor_mes_index]\n",
    "pior_mes = meses[pior_mes_index]\n",
    "\n",
    "print(f\"O melhor mês de vendas foi {melhor_mes} com um valor de {melhor_mes_valor}\")\n",
    "print(f\"O pior mês de vendas foi {pior_mes} com um valor de {pior_mes_valor}\")"
   ]
  },
  {
   "cell_type": "markdown",
   "metadata": {
    "id": "rGEdI7DMu3vo"
   },
   "source": [
    "## 2. Continuação\n",
    "\n",
    "Agora relacione as duas listas para printar 'O melhor mês do ano foi {} com {} vendas' e o mesmo para o pior mês do ano.\n",
    "\n",
    "Calcule também o faturamento total do Ano e quanto que o melhor mês representou do faturamento total.\n",
    "\n",
    "Obs: Para o faturamento total, pode usar a função sum(lista) que soma todos os itens de uma lista"
   ]
  },
  {
   "cell_type": "code",
   "execution_count": 2,
   "metadata": {
    "id": "Y9flMbmau3vo"
   },
   "outputs": [
    {
     "name": "stdout",
     "output_type": "stream",
     "text": [
      "O faturamento total do ano foi 261486\n",
      "O melhor mês de vendas foi nov com um valor de 49051\n",
      "O pior mês de vendas foi dez com um valor de 9650\n",
      "O melhor mês representou 18.76% do faturamento total\n"
     ]
    }
   ],
   "source": [
    "meses = ['jan', 'fev', 'mar', 'abr', 'mai', 'jun', 'jul', 'ago', 'set', 'out', 'nov', 'dez']\n",
    "vendas_1sem = [25000, 29000, 22200, 17750, 15870, 19900]\n",
    "vendas_2sem = [19850, 20120, 17540, 15555, 49051, 9650]\n",
    "\n",
    "vendasAno = vendas_1sem + vendas_2sem\n",
    "\n",
    "melhor_mes_valor = max(vendasAno)\n",
    "pior_mes_valor = min(vendasAno)\n",
    "\n",
    "melhor_mes_index = vendasAno.index(melhor_mes_valor)\n",
    "pior_mes_index = vendasAno.index(pior_mes_valor)\n",
    "\n",
    "melhor_mes = meses[melhor_mes_index]\n",
    "pior_mes = meses[pior_mes_index]\n",
    "\n",
    "faturamento_total = sum(vendasAno)\n",
    "percentual_melhor_mes = (melhor_mes_valor / faturamento_total) * 100\n",
    "\n",
    "print(f\"O faturamento total do ano foi {faturamento_total}\")\n",
    "print(f\"O melhor mês de vendas foi {melhor_mes} com um valor de {melhor_mes_valor}\")\n",
    "print(f\"O pior mês de vendas foi {pior_mes} com um valor de {pior_mes_valor}\")\n",
    "print(f\"O melhor mês representou {percentual_melhor_mes:.2f}% do faturamento total\")"
   ]
  },
  {
   "cell_type": "markdown",
   "metadata": {
    "id": "KLHV8ez3u3vo"
   },
   "source": [
    "## 3. Crie uma lista com o top 3 valores de vendas do ano (sem fazer \"no olho\")\n",
    "\n",
    "Dica: o método remove retira um item da lista."
   ]
  },
  {
   "cell_type": "code",
   "execution_count": 3,
   "metadata": {
    "id": "WQdJpcYyu3vo"
   },
   "outputs": [
    {
     "name": "stdout",
     "output_type": "stream",
     "text": [
      "Top 3 valores do ano: [49051, 29000, 25000]\n"
     ]
    }
   ],
   "source": [
    "meses = ['jan', 'fev', 'mar', 'abr', 'mai', 'jun', 'jul', 'ago', 'set', 'out', 'nov', 'dez']\n",
    "vendas_1sem = [25000, 29000, 22200, 17750, 15870, 19900]\n",
    "vendas_2sem = [19850, 20120, 17540, 15555, 49051, 9650]\n",
    "\n",
    "vendasAno = vendas_1sem + vendas_2sem\n",
    "\n",
    "top3 = sorted(vendasAno, reverse=True)[:3]\n",
    "\n",
    "print(\"Top 3 valores do ano:\", top3)"
   ]
  },
  {
   "cell_type": "code",
   "execution_count": null,
   "metadata": {},
   "outputs": [],
   "source": []
  }
 ],
 "metadata": {
  "colab": {
   "provenance": []
  },
  "kernelspec": {
   "display_name": "Python 3 (ipykernel)",
   "language": "python",
   "name": "python3"
  },
  "language_info": {
   "codemirror_mode": {
    "name": "ipython",
    "version": 3
   },
   "file_extension": ".py",
   "mimetype": "text/x-python",
   "name": "python",
   "nbconvert_exporter": "python",
   "pygments_lexer": "ipython3",
   "version": "3.11.3"
  }
 },
 "nbformat": 4,
 "nbformat_minor": 1
}
