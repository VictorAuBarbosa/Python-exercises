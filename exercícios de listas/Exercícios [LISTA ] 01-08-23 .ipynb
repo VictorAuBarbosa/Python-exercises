{
 "cells": [
  {
   "cell_type": "markdown",
   "id": "c68d6f8e",
   "metadata": {
    "id": "c68d6f8e"
   },
   "source": [
    "# Exercícios - Testando Conhecimentos Aprendidos em Aula\n",
    "\n",
    "### Neste conjunto de exercícios, você será desafiado a aplicar os conceitos aprendidos sobre listas em Python. Os exercícios abrangem operações como criação de listas, remoção de elementos, adição de itens, índices, uso de list comprehensions e muito mais. Siga as instruções de cada exercício e tente resolver utilizando apenas o código dentro do script."
   ]
  },
  {
   "cell_type": "markdown",
   "id": "69d0f7dc",
   "metadata": {
    "id": "69d0f7dc"
   },
   "source": [
    "##"
   ]
  },
  {
   "cell_type": "markdown",
   "id": "ec501626",
   "metadata": {
    "id": "ec501626"
   },
   "source": [
    "### 1 - Crie uma lista contendo os nomes de 5 países. Peça ao usuário para inserir o nome de mais um país. Em seguida, verifique se o país fornecido pelo usuário está na lista e exiba uma mensagem informando se ele está ou não na lista."
   ]
  },
  {
   "cell_type": "code",
   "execution_count": 2,
   "id": "db57457f",
   "metadata": {
    "id": "db57457f"
   },
   "outputs": [
    {
     "name": "stdout",
     "output_type": "stream",
     "text": [
      "Insira o nome de um novo país: Brasil\n",
      "O país Brasil foi acionado à lista.\n",
      "['Búlgaria', 'Japão', 'Brasil', 'Alemanha', 'Singapura', 'Brasil']\n"
     ]
    }
   ],
   "source": [
    "pais = input('Insira o nome de um novo país: ')\n",
    "paises = ['Búlgaria', 'Japão', 'Brasil', 'Alemanha', 'Singapura']\n",
    "\n",
    "paises.append(pais)\n",
    "\n",
    "if pais in paises:\n",
    "    print('O país {} foi acionado à lista.' .format(pais))\n",
    "else:\n",
    "    print('Este país não está na lista.')\n",
    "    \n",
    "print(paises)"
   ]
  },
  {
   "cell_type": "markdown",
   "id": "979aeae5",
   "metadata": {
    "id": "979aeae5"
   },
   "source": [
    "### 2 - Crie uma lista contendo os preços de 5 produtos. Em seguida, calcule e exiba o preço médio desses produtos."
   ]
  },
  {
   "cell_type": "code",
   "execution_count": 7,
   "id": "2748950b",
   "metadata": {
    "id": "2748950b"
   },
   "outputs": [
    {
     "name": "stdout",
     "output_type": "stream",
     "text": [
      "A média dos preços dos produtos é de 2920.\n"
     ]
    }
   ],
   "source": [
    "preços = [2200, 4000, 750, 1300, 6350]\n",
    "\n",
    "media = sum(preços) / len(preços)\n",
    "\n",
    "print('A média dos preços dos produtos é de {}.'.format(int(media)))"
   ]
  },
  {
   "cell_type": "markdown",
   "id": "504c48df",
   "metadata": {
    "id": "504c48df"
   },
   "source": [
    "  ### 3 - Crie uma lista com 5 cores diferentes. Peça ao usuário para inserir o nome de uma cor. Se a cor estiver na lista, remova-a e exiba a lista atualizada. Caso contrário, exiba uma mensagem informando que a cor não foi encontrada."
   ]
  },
  {
   "cell_type": "code",
   "execution_count": 9,
   "id": "f2681580",
   "metadata": {
    "id": "f2681580"
   },
   "outputs": [
    {
     "name": "stdout",
     "output_type": "stream",
     "text": [
      "Digite uma cor para remover da lista: Azul\n",
      "A cor Azul foi removida com sucesso.\n",
      "['Roxo', 'Amarelo', 'Preto', 'Branco']\n"
     ]
    }
   ],
   "source": [
    "cores = ['Roxo', 'Amarelo', 'Azul', 'Preto', 'Branco']\n",
    "remove = input('Digite uma cor para remover da lista: ')\n",
    "\n",
    "if remove in cores:\n",
    "    cores.remove(remove)\n",
    "    print('A cor {} foi removida com sucesso.'.format(remove))\n",
    "else:\n",
    "    print('A cor digitada não foi encontrada na lista.')\n",
    "\n",
    "print(cores)"
   ]
  },
  {
   "cell_type": "markdown",
   "id": "536d487d",
   "metadata": {
    "id": "536d487d"
   },
   "source": [
    "### 4 - Escreva um programa que leia duas listas de números do usuário e verifique se elas têm o mesmo comprimento e se possuem elementos iguais nas mesmas posições. Exiba uma mensagem informando se as listas são iguais ou diferentes."
   ]
  },
  {
   "cell_type": "code",
   "execution_count": 12,
   "id": "612d02de",
   "metadata": {
    "id": "612d02de"
   },
   "outputs": [
    {
     "name": "stdout",
     "output_type": "stream",
     "text": [
      "As duas listas são diferentes.\n"
     ]
    }
   ],
   "source": [
    "lista1 = [1000, 2000, 3000, 4000, 5000]\n",
    "\n",
    "lista2 = [6000, 7000, 8000, 9000, 10000]\n",
    "\n",
    "if lista1 == lista2:\n",
    "    print('As duas listas são iguais.')\n",
    "else:\n",
    "    print('As duas listas são diferentes.')"
   ]
  },
  {
   "cell_type": "markdown",
   "id": "462e7a14",
   "metadata": {
    "id": "462e7a14"
   },
   "source": [
    "### 5 - Crie uma lista contendo 10 números. Em seguida, solicite ao usuário que insira um número. Verifique se o número fornecido pelo usuário está na lista e, se estiver, exiba em quantas posições ele aparece."
   ]
  },
  {
   "cell_type": "code",
   "execution_count": 17,
   "id": "4faa687c",
   "metadata": {
    "id": "4faa687c"
   },
   "outputs": [
    {
     "name": "stdout",
     "output_type": "stream",
     "text": [
      "Digite um número de 1 à 5: 2\n",
      "O número 2 aparece 2 vezes na lista nas posições: 1, 8.\n"
     ]
    }
   ],
   "source": [
    "numeros = [1, 2, 3, 4, 5, 5, 4, 3, 2, 1]\n",
    "usuNumber = int(input('Digite um número de 1 à 5: '))\n",
    "\n",
    "indices = [indice for indice, valor in enumerate(numeros) if valor == usuNumber]\n",
    "\n",
    "if indices:\n",
    "    quantidade = len(indices)\n",
    "    posicoes = ', '.join(str(indice) for indice in indices)\n",
    "    print(f\"O número {usuNumber} aparece {quantidade} vezes na lista nas posições: {posicoes}.\")\n",
    "else:\n",
    "    print(f\"O número {usuNumber} não está na lista.\")"
   ]
  },
  {
   "cell_type": "markdown",
   "id": "dcf80a5a",
   "metadata": {
    "id": "dcf80a5a"
   },
   "source": [
    "### 6 - Escreva uma função que recebe uma palavra e verifica se é um palíndromo, ou seja, se a palavra é igual quando lida de trás para frente."
   ]
  },
  {
   "cell_type": "code",
   "execution_count": 18,
   "id": "8855c87e",
   "metadata": {
    "id": "8855c87e"
   },
   "outputs": [
    {
     "name": "stdout",
     "output_type": "stream",
     "text": [
      "Digite uma palavra: subi no onibus\n",
      "Esta palavra não é um palíndromo.\n"
     ]
    }
   ],
   "source": [
    "def is_palindrome(word):\n",
    "    word = word.lower()  \n",
    "    reversed_word = word[::-1]  \n",
    "    \n",
    "    return word == reversed_word\n",
    "\n",
    "word_to_check = input(\"Digite uma palavra: \")\n",
    "if is_palindrome(word_to_check):\n",
    "    print(\"Esta palavra é um palíndromo!\")\n",
    "else:\n",
    "    print(\"Esta palavra não é um palíndromo.\")"
   ]
  },
  {
   "cell_type": "markdown",
   "id": "7a0ff2fc",
   "metadata": {
    "id": "7a0ff2fc"
   },
   "source": [
    "### 7 - Escreva uma função que recebe duas listas e retorna uma nova lista que é a concatenação das duas."
   ]
  },
  {
   "cell_type": "code",
   "execution_count": 5,
   "id": "3ce93eaf",
   "metadata": {
    "id": "3ce93eaf"
   },
   "outputs": [
    {
     "name": "stdout",
     "output_type": "stream",
     "text": [
      "[1, 2, 3, 4, 5, 6]\n"
     ]
    }
   ],
   "source": [
    "lista1 = [1 ,2 ,3]\n",
    "lista2 = [4, 5 ,6]\n",
    "\n",
    "lista3 = lista1 + lista2\n",
    "\n",
    "print(lista3)"
   ]
  },
  {
   "cell_type": "markdown",
   "id": "1616e8c8",
   "metadata": {
    "id": "1616e8c8"
   },
   "source": [
    "### 8 - Escreva uma função que recebe uma lista e dois índices e troca os elementos presentes nos índices fornecidos."
   ]
  },
  {
   "cell_type": "code",
   "execution_count": 8,
   "id": "afa9e00a",
   "metadata": {
    "id": "afa9e00a"
   },
   "outputs": [
    {
     "name": "stdout",
     "output_type": "stream",
     "text": [
      "Lista original: [1, 2, 3, 4, 5]\n",
      "Digite o primeiro índice: 1\n",
      "Digite o segundo índice: 4\n",
      "Lista após a troca: [1, 5, 3, 4, 2]\n"
     ]
    }
   ],
   "source": [
    "def swap_elements(lst, index1, index2):\n",
    "    if index1 < 0 or index1 >= len(lst) or index2 < 0 or index2 >= len(lst):\n",
    "        print(\"Índices inválidos.\")\n",
    "        return\n",
    "    \n",
    "    lst[index1], lst[index2] = lst[index2], lst[index1]\n",
    "\n",
    "my_list = [1, 2, 3, 4, 5]\n",
    "print(\"Lista original:\", my_list)\n",
    "\n",
    "index_a = int(input(\"Digite o primeiro índice: \"))\n",
    "index_b = int(input(\"Digite o segundo índice: \"))\n",
    "\n",
    "swap_elements(my_list, index_a, index_b)\n",
    "print(\"Lista após a troca:\", my_list)"
   ]
  },
  {
   "cell_type": "markdown",
   "id": "d77bef5e",
   "metadata": {
    "id": "d77bef5e"
   },
   "source": [
    "### 9 - Escreva uma função que recebe uma lista e retorna uma nova lista com os elementos invertidos na ordem."
   ]
  },
  {
   "cell_type": "code",
   "execution_count": 13,
   "id": "44da2eb8",
   "metadata": {
    "id": "44da2eb8"
   },
   "outputs": [
    {
     "name": "stdout",
     "output_type": "stream",
     "text": [
      "[5, 4, 3, 2, 1]\n"
     ]
    }
   ],
   "source": [
    "lista1 = [1, 2, 3, 4, 5]\n",
    "\n",
    "lista1.sort(reverse=True)\n",
    "\n",
    "print(lista1)"
   ]
  },
  {
   "cell_type": "markdown",
   "id": "a840c743",
   "metadata": {
    "id": "a840c743"
   },
   "source": [
    "### 10 - Escreva uma função que recebe uma lista de palavras e retorna uma nova lista contendo apenas as palavras únicas, ou seja, palavras que aparecem apenas uma vez na lista."
   ]
  },
  {
   "cell_type": "code",
   "execution_count": 14,
   "id": "0924cdcc",
   "metadata": {
    "id": "0924cdcc"
   },
   "outputs": [
    {
     "name": "stdout",
     "output_type": "stream",
     "text": [
      "['grape', 'orange']\n"
     ]
    }
   ],
   "source": [
    "def unique_words(words_list):\n",
    "    word_count = {}  # Dicionário para armazenar a contagem de cada palavra\n",
    "\n",
    "    # Contagem de palavras na lista\n",
    "    for word in words_list:\n",
    "        if word in word_count:\n",
    "            word_count[word] += 1\n",
    "        else:\n",
    "            word_count[word] = 1\n",
    "    \n",
    "    unique_words_list = [word for word, count in word_count.items() if count == 1]\n",
    "    return unique_words_list\n",
    "\n",
    "\n",
    "word_list = [\"apple\", \"banana\", \"apple\", \"grape\", \"banana\", \"orange\"]\n",
    "unique_list = unique_words(word_list)\n",
    "print(unique_list)"
   ]
  },
  {
   "cell_type": "code",
   "execution_count": null,
   "id": "ca1cbc4f",
   "metadata": {},
   "outputs": [],
   "source": []
  }
 ],
 "metadata": {
  "colab": {
   "provenance": []
  },
  "kernelspec": {
   "display_name": "Python 3 (ipykernel)",
   "language": "python",
   "name": "python3"
  },
  "language_info": {
   "codemirror_mode": {
    "name": "ipython",
    "version": 3
   },
   "file_extension": ".py",
   "mimetype": "text/x-python",
   "name": "python",
   "nbconvert_exporter": "python",
   "pygments_lexer": "ipython3",
   "version": "3.11.3"
  }
 },
 "nbformat": 4,
 "nbformat_minor": 5
}
