{
 "cells": [
  {
   "cell_type": "markdown",
   "id": "d6fa79c4",
   "metadata": {
    "id": "d6fa79c4"
   },
   "source": [
    "# Exercícios de Introdução às Funções em Python"
   ]
  },
  {
   "cell_type": "markdown",
   "id": "6ea92414",
   "metadata": {
    "id": "6ea92414"
   },
   "source": [
    "######  . . . . .  . . . . . . . . . . . . . . . . . . . . . ..  . . . ..  .. .  ..  . . . . ..  . . . . . .. .  . . . . . . . . . ..  . .. .  . . .. . ..  .. .  . . . . . . . . .. . .  .. . . . . . .. . . . . . . . . . . . . . . . .. . . . . . ..\n",
    ".\n",
    "..\n",
    ".\n",
    "..\n",
    ".\n",
    "..\n",
    ".\n",
    "..\n"
   ]
  },
  {
   "cell_type": "markdown",
   "id": "66043de7",
   "metadata": {
    "id": "66043de7"
   },
   "source": [
    "## Introdução ao uso de funções em Python. Funções são blocos de código que nos permitem organizar e reutilizar tarefas em nossos programas. Elas são uma parte fundamental da programação e nos ajudam a escrever código mais limpo, eficiente e modular.\n",
    "\n",
    "## Para praticar o que aprendemos, temos uma série de exercícios que envolvem o uso de funções básicas para realizar cálculos simples. Vocês deverão criar funções que resolvam os problemas propostos. Lembre-se de usar nomes significativos para suas funções e variáveis, para que o código seja claro e compreensível."
   ]
  },
  {
   "cell_type": "markdown",
   "id": "a7f6647f",
   "metadata": {
    "id": "a7f6647f"
   },
   "source": [
    "## Exercício 1: Calcular a área de um retângulo\n",
    "### Situação Problema: Você está construindo um jardim retangular em sua casa. A largura do jardim é 5 metros e o comprimento é 8 metros. Qual é a área total do jardim?"
   ]
  },
  {
   "cell_type": "code",
   "execution_count": 1,
   "id": "931944a6",
   "metadata": {
    "id": "931944a6"
   },
   "outputs": [
    {
     "name": "stdout",
     "output_type": "stream",
     "text": [
      "Digite a base do retângulo: 5\n",
      "Digite a altura do retângulo: 6\n",
      "A área do retângulo é: 30.0\n"
     ]
    }
   ],
   "source": [
    "def calcular_area_retangulo(base, altura):\n",
    "    area = base * altura\n",
    "    return area\n",
    "\n",
    "base = float(input(\"Digite a base do retângulo: \"))\n",
    "altura = float(input(\"Digite a altura do retângulo: \"))\n",
    "print(\"A área do retângulo é:\", calcular_area_retangulo(base, altura))\n"
   ]
  },
  {
   "cell_type": "markdown",
   "id": "f9684318",
   "metadata": {
    "id": "f9684318"
   },
   "source": [
    "## Exercício 2: Calcular o quadrado de um número\n",
    "### Situação Problema: Você está medindo o lado de um quadrado. O lado mede 6 metros. Qual é a área desse quadrado?"
   ]
  },
  {
   "cell_type": "code",
   "execution_count": 1,
   "id": "12546b18",
   "metadata": {
    "id": "12546b18"
   },
   "outputs": [
    {
     "name": "stdout",
     "output_type": "stream",
     "text": [
      "Digite o comprimento de um lado do quadrado: 5\n",
      "A área do quadrado com lado 5.0 é: 25.0\n"
     ]
    }
   ],
   "source": [
    "def area_quadrado():\n",
    "    numero = float(input(\"Digite o comprimento de um lado do quadrado: \"))\n",
    "    area = numero ** 2\n",
    "    print(\"A área do quadrado com lado\", numero, \"é:\", area)\n",
    "\n",
    "area_quadrado ()"
   ]
  },
  {
   "cell_type": "markdown",
   "id": "3f96f770",
   "metadata": {
    "id": "3f96f770"
   },
   "source": [
    "## Exercício 3: Converter Celsius para Fahrenheit\n",
    "### Situação Problema: Você está em um país onde a temperatura é medida em Fahrenheit. A temperatura atual é 25 graus Celsius. Qual é a temperatura equivalente em Fahrenheit?"
   ]
  },
  {
   "cell_type": "code",
   "execution_count": 2,
   "id": "c1923918",
   "metadata": {
    "id": "c1923918"
   },
   "outputs": [
    {
     "name": "stdout",
     "output_type": "stream",
     "text": [
      "Digite a temperatura em Celsius: 9\n",
      "A temperatura em Fahrenheit é 48.2\n"
     ]
    }
   ],
   "source": [
    "def celsius_para_fahrenheit(celsius):\n",
    "  fahrenheit = celsius * 9 / 5 + 32\n",
    "  return fahrenheit\n",
    "\n",
    "celsius = float(input(\"Digite a temperatura em Celsius: \"))\n",
    "\n",
    "fahrenheit = celsius_para_fahrenheit(celsius)\n",
    "\n",
    "print(\"A temperatura em Fahrenheit é\", fahrenheit)"
   ]
  },
  {
   "cell_type": "markdown",
   "id": "535c92f1",
   "metadata": {
    "id": "535c92f1"
   },
   "source": [
    "## Exercício 4: Calcular a média de três números\n",
    "### Situação Problema: Você fez três exames e obteve as seguintes notas: 7.5, 8.0 e 6.5. Qual é a sua média nessas três provas?"
   ]
  },
  {
   "cell_type": "code",
   "execution_count": 11,
   "id": "c2c4fae5",
   "metadata": {
    "id": "c2c4fae5"
   },
   "outputs": [
    {
     "name": "stdout",
     "output_type": "stream",
     "text": [
      "A média das três notas é 7.333333333333333\n"
     ]
    }
   ],
   "source": [
    "def calcular_media_nota():\n",
    "\n",
    "    nota1 = float(7.5)\n",
    "    nota2 = float(8)\n",
    "    nota3 = float(6.5)\n",
    "\n",
    "    media = (nota1 + nota2 + nota3) / 3\n",
    "\n",
    "    print(\"A média das três notas é\", media)\n",
    "    \n",
    "calcular_media_nota()"
   ]
  },
  {
   "cell_type": "markdown",
   "id": "dc19120f",
   "metadata": {
    "id": "dc19120f"
   },
   "source": [
    "## Exercício 5: Calcular a hipotenusa de um triângulo retângulo\n",
    "### Situação Problema: Você está construindo uma rampa para um skatepark. As duas partes da rampa formam um ângulo reto, e as medidas dos catetos são 4 metros e 5 metros. Qual é o comprimento da rampa (hipotenusa)?"
   ]
  },
  {
   "cell_type": "code",
   "execution_count": 15,
   "id": "e634d60c",
   "metadata": {
    "id": "e634d60c"
   },
   "outputs": [
    {
     "name": "stdout",
     "output_type": "stream",
     "text": [
      "Digite o cateto oposto da rampa: 10\n",
      "Digite o cateto adjacente da rampa: 10\n",
      "O comprimento da rampa é: 14.142135623730951\n"
     ]
    }
   ],
   "source": [
    "def calcular_hipotenusa():\n",
    "    cateto_oposto = float(input('Digite o cateto oposto da rampa: ')) ** 2\n",
    "    cateto_adjacente = float(input('Digite o cateto adjacente da rampa: ')) ** 2\n",
    "    rampa = (cateto_oposto + cateto_adjacente) ** 0.5\n",
    "    print(\"O comprimento da rampa é:\", rampa)\n",
    "\n",
    "calcular_hipotenusa()"
   ]
  },
  {
   "cell_type": "markdown",
   "id": "63fa58f9",
   "metadata": {
    "id": "63fa58f9"
   },
   "source": [
    "## Exercício 6: Calcular o perímetro de um quadrado\n",
    "### Situação Problema: Você está construindo um tapete quadrado para a sala de estar. Cada lado do tapete mede 3 metros. Qual é o perímetro total do tapete?"
   ]
  },
  {
   "cell_type": "code",
   "execution_count": 3,
   "id": "a2cc0651",
   "metadata": {
    "id": "a2cc0651"
   },
   "outputs": [
    {
     "name": "stdout",
     "output_type": "stream",
     "text": [
      "Digite o comprimento do lado do tapete: 8\n",
      "O perímetro do tapete é 32.0\n"
     ]
    }
   ],
   "source": [
    "def calcular_perimetro(lado):\n",
    "    perimetro = lado * 4\n",
    "    return perimetro\n",
    "\n",
    "lado = float(input(\"Digite o comprimento do lado do tapete: \"))\n",
    "\n",
    "print(\"O perímetro do tapete é\", calcular_perimetro(lado))"
   ]
  },
  {
   "cell_type": "markdown",
   "id": "0bc6d476",
   "metadata": {
    "id": "0bc6d476"
   },
   "source": [
    "## Exercício 7: Calcular a média ponderada de três notas\n",
    "### Situação Problema: Você está estudando para três disciplinas diferentes. Suas notas são: 7.0 em Matemática, 8.5 em Ciências e 9.5 em História. Se a Matemática tem peso 2, Ciências tem peso 3 e História tem peso 5, qual é a sua média ponderada?\n",
    "\n"
   ]
  },
  {
   "cell_type": "code",
   "execution_count": 3,
   "id": "15b67f4a",
   "metadata": {
    "id": "15b67f4a"
   },
   "outputs": [
    {
     "name": "stdout",
     "output_type": "stream",
     "text": [
      "Digite a nota de matemática: 5\n",
      "Digite a nota de ciências: 6\n",
      "Digite a nota de história: 7\n",
      "A média ponderada é 6.3\n"
     ]
    }
   ],
   "source": [
    "def calcular_media_ponderada(nota1, nota2, nota3):\n",
    "    media_ponderada = (nota1 * 2 + nota2 * 3 + nota3 * 5) / 10\n",
    "    return media_ponderada\n",
    "\n",
    "nota1 = float(input(\"Digite a primeira nota: \"))\n",
    "nota2 = float(input(\"Digite a segunda nota: \"))\n",
    "nota3 = float(input(\"Digite a terceira nota: \"))\n",
    "print(\"A média ponderada das notas é:\", calcular_media_ponderada(nota1, nota2, nota3))\n"
   ]
  },
  {
   "cell_type": "markdown",
   "id": "a411f83c",
   "metadata": {
    "id": "a411f83c"
   },
   "source": [
    "## Exercício 8: Calcular a área de um círculo\n",
    "### Situação Problema: Você está pintando um alvo circular em uma parede. O raio do círculo é 2 metros. Qual é a área total que você precisa pintar?"
   ]
  },
  {
   "cell_type": "code",
   "execution_count": null,
   "id": "e7a46d2d",
   "metadata": {
    "id": "e7a46d2d"
   },
   "outputs": [],
   "source": [
    "import math\n",
    "\n",
    "def calcular_area_circulo(raio):\n",
    "    area = math.pi * raio**2\n",
    "    return area\n",
    "\n",
    "raio = float(input(\"Digite o raio do círculo: \"))\n",
    "print(\"A área do círculo é:\", calcular_area_circulo(raio))"
   ]
  },
  {
   "cell_type": "markdown",
   "id": "1d16b12a",
   "metadata": {
    "id": "1d16b12a"
   },
   "source": [
    "## Exercício 9: Converter quilômetros para milhas\n",
    "### Situação Problema: Você está planejando uma viagem de carro. O percurso tem 200 quilômetros de extensão. Qual é a distância equivalente em milhas?\n",
    "\n",
    "\n",
    "\n",
    "\n"
   ]
  },
  {
   "cell_type": "code",
   "execution_count": null,
   "id": "1ca02ada",
   "metadata": {
    "id": "1ca02ada"
   },
   "outputs": [],
   "source": [
    "def km_para_milhas(km):\n",
    "    milhas = km / 1.60934\n",
    "    return milhas\n",
    "\n",
    "quilometros = float(input(\"Digite a distância em quilômetros: \"))\n",
    "print(\"A distância em milhas é:\", km_para_milhas(quilometros))"
   ]
  },
  {
   "cell_type": "markdown",
   "id": "b19544a3",
   "metadata": {
    "id": "b19544a3"
   },
   "source": [
    "## Exercício 10: Calcular a média aritmética de quatro números\n",
    "### Situação Problema: Você está acompanhando as notas de um aluno em quatro provas: 6.5, 7.0, 8.5 e 9.0. Qual é a média aritmética dessas quatro notas?\n",
    "\n",
    "\n"
   ]
  },
  {
   "cell_type": "code",
   "execution_count": null,
   "id": "10c84074",
   "metadata": {
    "id": "10c84074"
   },
   "outputs": [],
   "source": [
    "def calcular_media_aritmetica(num1, num2, num3, num4):\n",
    "    media_aritmetica = (num1 + num2 + num3 + num4) / 4\n",
    "    return media_aritmetica\n",
    "\n",
    "num1 = float(input(\"Digite o primeiro número: \"))\n",
    "num2 = float(input(\"Digite o segundo número: \"))\n",
    "num3 = float(input(\"Digite o terceiro número: \"))\n",
    "num4 = float(input(\"Digite o quarto número: \"))\n",
    "print(\"A média aritmética dos números é:\", calcular_media_aritmetica(num1, num2, num3, num4))\n"
   ]
  }
 ],
 "metadata": {
  "colab": {
   "provenance": []
  },
  "kernelspec": {
   "display_name": "Python 3 (ipykernel)",
   "language": "python",
   "name": "python3"
  },
  "language_info": {
   "codemirror_mode": {
    "name": "ipython",
    "version": 3
   },
   "file_extension": ".py",
   "mimetype": "text/x-python",
   "name": "python",
   "nbconvert_exporter": "python",
   "pygments_lexer": "ipython3",
   "version": "3.11.3"
  }
 },
 "nbformat": 4,
 "nbformat_minor": 5
}
