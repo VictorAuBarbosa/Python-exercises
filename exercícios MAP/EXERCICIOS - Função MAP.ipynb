{
 "cells": [
  {
   "cell_type": "markdown",
   "id": "38f9fcc2",
   "metadata": {},
   "source": [
    "### Exercícios de função MAP\n",
    "####   ***** Tente fazer sozinho antes de consultar  *****"
   ]
  },
  {
   "cell_type": "markdown",
   "id": "6266b0e9",
   "metadata": {},
   "source": [
    "#### Exercício 1:\n",
    "Escreva um programa que receba uma lista de números como entrada e use a função map para elevar todos os números ao quadrado. Em seguida, imprima a lista resultante."
   ]
  },
  {
   "cell_type": "code",
   "execution_count": 1,
   "id": "16142264",
   "metadata": {},
   "outputs": [
    {
     "ename": "SyntaxError",
     "evalue": "invalid syntax (1170946614.py, line 4)",
     "output_type": "error",
     "traceback": [
      "\u001b[1;36m  Cell \u001b[1;32mIn[1], line 4\u001b[1;36m\u001b[0m\n\u001b[1;33m    return ** 2\u001b[0m\n\u001b[1;37m           ^\u001b[0m\n\u001b[1;31mSyntaxError\u001b[0m\u001b[1;31m:\u001b[0m invalid syntax\n"
     ]
    }
   ],
   "source": [
    "numeros = [1, 2, 4, 5, 3]\n",
    "\n",
    "def elevar_quadrado(numeros):\n",
    "    return numeros ** 2\n",
    "\n",
    "resultado = list(map(elevar_quadrado, numeros))\n",
    "\n",
    "print(resultado)"
   ]
  },
  {
   "cell_type": "markdown",
   "id": "78c82313",
   "metadata": {},
   "source": [
    "#### Exercício 2:\n",
    "Exercício 2:\n",
    "Crie uma função dobro que receba uma lista de números como entrada e use a função map para dobrar cada número na lista. Em seguida, imprima a lista resultante.\n"
   ]
  },
  {
   "cell_type": "code",
   "execution_count": 2,
   "id": "233c71f5",
   "metadata": {},
   "outputs": [
    {
     "name": "stdout",
     "output_type": "stream",
     "text": [
      "[2, 4, 6, 8, 10]\n"
     ]
    }
   ],
   "source": [
    "def dobro(lista):\n",
    "    lista_dobrada = list(map(lambda x: x * 2, lista))\n",
    "    return lista_dobrada\n",
    "\n",
    "numeros = [1, 2, 3, 4, 5]\n",
    "resultado = dobro(numeros)\n",
    "print(resultado)"
   ]
  },
  {
   "cell_type": "markdown",
   "id": "f9a92dda",
   "metadata": {},
   "source": [
    "#### Exercício 3:\n",
    "\n",
    "Escreva um programa que receba uma lista de nomes como entrada e use a função map para adicionar a string \"Sr. \" antes de cada nome. Em seguida, imprima a lista resultante."
   ]
  },
  {
   "cell_type": "code",
   "execution_count": 3,
   "id": "55f2432d",
   "metadata": {},
   "outputs": [
    {
     "name": "stdout",
     "output_type": "stream",
     "text": [
      "Lista com 'Sr.' adicionado:\n",
      "Sr. Daniel\n",
      "Sr.  Felipe\n",
      "Sr.  Prado\n"
     ]
    }
   ],
   "source": [
    "def adicionar_sr(nome):\n",
    "    return \"Sr. \" + nome\n",
    "\n",
    "def main():\n",
    "    nomes = input(\"Digite uma lista de nomes separados por vírgula: \").split(\",\")\n",
    "\n",
    "    nomes_com_sr = list(map(adicionar_sr, nomes))\n",
    "\n",
    "    print(\"Lista com 'Sr.' adicionado:\")\n",
    "    for nome_sr in nomes_com_sr:\n",
    "        print(nome_sr)\n",
    "\n",
    "if __name__ == \"__main__\":\n",
    "    main()"
   ]
  },
  {
   "cell_type": "markdown",
   "id": "e2205602",
   "metadata": {},
   "source": [
    "#### Exercício 4:\n",
    "Crie uma função calcular_area que receba uma lista de raios de círculos como entrada e use a função map para calcular a área de cada círculo. A área de um círculo é dada por π * raio^2. Em seguida, imprima a lista de áreas.\n",
    "\n",
    "\n"
   ]
  },
  {
   "cell_type": "code",
   "execution_count": 6,
   "id": "42165b19",
   "metadata": {},
   "outputs": [
    {
     "name": "stdout",
     "output_type": "stream",
     "text": [
      "Áreas dos círculos:\n",
      "78.53981633974483\n",
      "50.26548245743669\n",
      "5026.548245743669\n",
      "201.06192982974676\n",
      "50.26548245743669\n",
      "78.53981633974483\n"
     ]
    }
   ],
   "source": [
    "import math\n",
    "\n",
    "def calcular_area(raio):\n",
    "    area = math.pi * raio ** 2\n",
    "    return area\n",
    "\n",
    "def main():\n",
    "    raios = input(\"Digite uma lista de raios de círculos separados por espaço: \").split()\n",
    "\n",
    "    raios = list(map(float, raios))\n",
    "\n",
    "    areas = list(map(calcular_area, raios))\n",
    "\n",
    "    print(\"Áreas dos círculos:\")\n",
    "    for area in areas:\n",
    "        print(area)\n",
    "\n",
    "if __name__ == \"__main__\":\n",
    "    main()"
   ]
  },
  {
   "cell_type": "markdown",
   "id": "a6330d4e",
   "metadata": {},
   "source": [
    "#### Exercício 5:\n",
    "Escreva um programa que receba uma lista de frases como entrada e use a função map para contar o número de palavras em cada frase. Em seguida, imprima a lista de contagens de palavras."
   ]
  },
  {
   "cell_type": "code",
   "execution_count": 7,
   "id": "83b02275",
   "metadata": {},
   "outputs": [
    {
     "name": "stdout",
     "output_type": "stream",
     "text": [
      "Contagens de palavras:\n",
      "2\n",
      "2\n"
     ]
    }
   ],
   "source": [
    "def contar_palavras(frase):\n",
    "    palavras = frase.split()\n",
    "    return len(palavras)\n",
    "\n",
    "def main():\n",
    "    frases = input(\"Digite uma lista de frases separadas por ponto e vírgula (;): \").split(\";\")\n",
    "\n",
    "    contagens = list(map(contar_palavras, frases))\n",
    "\n",
    "    print(\"Contagens de palavras:\")\n",
    "    for contagem in contagens:\n",
    "        print(contagem)\n",
    "\n",
    "if __name__ == \"__main__\":\n",
    "    main()"
   ]
  },
  {
   "cell_type": "code",
   "execution_count": null,
   "id": "d2d86eba",
   "metadata": {},
   "outputs": [],
   "source": []
  }
 ],
 "metadata": {
  "kernelspec": {
   "display_name": "Python 3 (ipykernel)",
   "language": "python",
   "name": "python3"
  },
  "language_info": {
   "codemirror_mode": {
    "name": "ipython",
    "version": 3
   },
   "file_extension": ".py",
   "mimetype": "text/x-python",
   "name": "python",
   "nbconvert_exporter": "python",
   "pygments_lexer": "ipython3",
   "version": "3.11.3"
  }
 },
 "nbformat": 4,
 "nbformat_minor": 5
}
