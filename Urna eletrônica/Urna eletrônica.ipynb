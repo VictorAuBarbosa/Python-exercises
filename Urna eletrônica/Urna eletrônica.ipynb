{
 "cells": [
  {
   "cell_type": "markdown",
   "id": "28159d01",
   "metadata": {},
   "source": [
    "# Atividade Urna de Votação"
   ]
  },
  {
   "cell_type": "code",
   "execution_count": 1,
   "id": "02d3d16d",
   "metadata": {},
   "outputs": [
    {
     "ename": "FileNotFoundError",
     "evalue": "[Errno 2] No such file or directory: 'urnas.jpeg'",
     "output_type": "error",
     "traceback": [
      "\u001b[1;31m---------------------------------------------------------------------------\u001b[0m",
      "\u001b[1;31mFileNotFoundError\u001b[0m                         Traceback (most recent call last)",
      "Cell \u001b[1;32mIn[1], line 2\u001b[0m\n\u001b[0;32m      1\u001b[0m \u001b[39mfrom\u001b[39;00m \u001b[39mIPython\u001b[39;00m\u001b[39m.\u001b[39;00m\u001b[39mdisplay\u001b[39;00m \u001b[39mimport\u001b[39;00m Image, display\n\u001b[1;32m----> 2\u001b[0m display(Image(filename\u001b[39m=\u001b[39m\u001b[39m'\u001b[39m\u001b[39murnas.jpeg\u001b[39m\u001b[39m'\u001b[39m, width\u001b[39m=\u001b[39m\u001b[39m400\u001b[39m, height\u001b[39m=\u001b[39m\u001b[39m300\u001b[39m))\n",
      "File \u001b[1;32mc:\\Users\\Aluno 24\\anaconda3\\Lib\\site-packages\\IPython\\core\\display.py:970\u001b[0m, in \u001b[0;36mImage.__init__\u001b[1;34m(self, data, url, filename, format, embed, width, height, retina, unconfined, metadata, alt)\u001b[0m\n\u001b[0;32m    968\u001b[0m \u001b[39mself\u001b[39m\u001b[39m.\u001b[39munconfined \u001b[39m=\u001b[39m unconfined\n\u001b[0;32m    969\u001b[0m \u001b[39mself\u001b[39m\u001b[39m.\u001b[39malt \u001b[39m=\u001b[39m alt\n\u001b[1;32m--> 970\u001b[0m \u001b[39msuper\u001b[39m(Image, \u001b[39mself\u001b[39m)\u001b[39m.\u001b[39m\u001b[39m__init__\u001b[39m(data\u001b[39m=\u001b[39mdata, url\u001b[39m=\u001b[39murl, filename\u001b[39m=\u001b[39mfilename,\n\u001b[0;32m    971\u001b[0m         metadata\u001b[39m=\u001b[39mmetadata)\n\u001b[0;32m    973\u001b[0m \u001b[39mif\u001b[39;00m \u001b[39mself\u001b[39m\u001b[39m.\u001b[39mwidth \u001b[39mis\u001b[39;00m \u001b[39mNone\u001b[39;00m \u001b[39mand\u001b[39;00m \u001b[39mself\u001b[39m\u001b[39m.\u001b[39mmetadata\u001b[39m.\u001b[39mget(\u001b[39m'\u001b[39m\u001b[39mwidth\u001b[39m\u001b[39m'\u001b[39m, {}):\n\u001b[0;32m    974\u001b[0m     \u001b[39mself\u001b[39m\u001b[39m.\u001b[39mwidth \u001b[39m=\u001b[39m metadata[\u001b[39m'\u001b[39m\u001b[39mwidth\u001b[39m\u001b[39m'\u001b[39m]\n",
      "File \u001b[1;32mc:\\Users\\Aluno 24\\anaconda3\\Lib\\site-packages\\IPython\\core\\display.py:327\u001b[0m, in \u001b[0;36mDisplayObject.__init__\u001b[1;34m(self, data, url, filename, metadata)\u001b[0m\n\u001b[0;32m    324\u001b[0m \u001b[39melif\u001b[39;00m \u001b[39mself\u001b[39m\u001b[39m.\u001b[39mmetadata \u001b[39mis\u001b[39;00m \u001b[39mNone\u001b[39;00m:\n\u001b[0;32m    325\u001b[0m     \u001b[39mself\u001b[39m\u001b[39m.\u001b[39mmetadata \u001b[39m=\u001b[39m {}\n\u001b[1;32m--> 327\u001b[0m \u001b[39mself\u001b[39m\u001b[39m.\u001b[39mreload()\n\u001b[0;32m    328\u001b[0m \u001b[39mself\u001b[39m\u001b[39m.\u001b[39m_check_data()\n",
      "File \u001b[1;32mc:\\Users\\Aluno 24\\anaconda3\\Lib\\site-packages\\IPython\\core\\display.py:1005\u001b[0m, in \u001b[0;36mImage.reload\u001b[1;34m(self)\u001b[0m\n\u001b[0;32m   1003\u001b[0m \u001b[39m\u001b[39m\u001b[39m\"\"\"Reload the raw data from file or URL.\"\"\"\u001b[39;00m\n\u001b[0;32m   1004\u001b[0m \u001b[39mif\u001b[39;00m \u001b[39mself\u001b[39m\u001b[39m.\u001b[39membed:\n\u001b[1;32m-> 1005\u001b[0m     \u001b[39msuper\u001b[39m(Image,\u001b[39mself\u001b[39m)\u001b[39m.\u001b[39mreload()\n\u001b[0;32m   1006\u001b[0m     \u001b[39mif\u001b[39;00m \u001b[39mself\u001b[39m\u001b[39m.\u001b[39mretina:\n\u001b[0;32m   1007\u001b[0m         \u001b[39mself\u001b[39m\u001b[39m.\u001b[39m_retina_shape()\n",
      "File \u001b[1;32mc:\\Users\\Aluno 24\\anaconda3\\Lib\\site-packages\\IPython\\core\\display.py:353\u001b[0m, in \u001b[0;36mDisplayObject.reload\u001b[1;34m(self)\u001b[0m\n\u001b[0;32m    351\u001b[0m \u001b[39mif\u001b[39;00m \u001b[39mself\u001b[39m\u001b[39m.\u001b[39mfilename \u001b[39mis\u001b[39;00m \u001b[39mnot\u001b[39;00m \u001b[39mNone\u001b[39;00m:\n\u001b[0;32m    352\u001b[0m     encoding \u001b[39m=\u001b[39m \u001b[39mNone\u001b[39;00m \u001b[39mif\u001b[39;00m \u001b[39m\"\u001b[39m\u001b[39mb\u001b[39m\u001b[39m\"\u001b[39m \u001b[39min\u001b[39;00m \u001b[39mself\u001b[39m\u001b[39m.\u001b[39m_read_flags \u001b[39melse\u001b[39;00m \u001b[39m\"\u001b[39m\u001b[39mutf-8\u001b[39m\u001b[39m\"\u001b[39m\n\u001b[1;32m--> 353\u001b[0m     \u001b[39mwith\u001b[39;00m \u001b[39mopen\u001b[39m(\u001b[39mself\u001b[39m\u001b[39m.\u001b[39mfilename, \u001b[39mself\u001b[39m\u001b[39m.\u001b[39m_read_flags, encoding\u001b[39m=\u001b[39mencoding) \u001b[39mas\u001b[39;00m f:\n\u001b[0;32m    354\u001b[0m         \u001b[39mself\u001b[39m\u001b[39m.\u001b[39mdata \u001b[39m=\u001b[39m f\u001b[39m.\u001b[39mread()\n\u001b[0;32m    355\u001b[0m \u001b[39melif\u001b[39;00m \u001b[39mself\u001b[39m\u001b[39m.\u001b[39murl \u001b[39mis\u001b[39;00m \u001b[39mnot\u001b[39;00m \u001b[39mNone\u001b[39;00m:\n\u001b[0;32m    356\u001b[0m     \u001b[39m# Deferred import\u001b[39;00m\n",
      "\u001b[1;31mFileNotFoundError\u001b[0m: [Errno 2] No such file or directory: 'urnas.jpeg'"
     ]
    }
   ],
   "source": [
    "from IPython.display import Image, display\n",
    "display(Image(filename='urnas.jpeg', width=400, height=300))  # Substitua 300 e 200 pelos valores desejados\n",
    "# Colocar uma imagem do arquivo local"
   ]
  },
  {
   "cell_type": "markdown",
   "id": "0a1f8c64",
   "metadata": {},
   "source": [
    "### Chegou o momento de concluirmos nosso ciclo de aprendizado em backend com Python! Desde as primeiras linhas de código até as estruturas condicionais e comparadores, exploramos um mundo de possibilidades. Agora, vamos aplicar nosso conhecimento em um projeto empolgante: a criação de uma \"Urna Eletrônica\" para as futuras votações na Escola SENAI Morvan Figueiredo."
   ]
  },
  {
   "cell_type": "markdown",
   "id": "77753307",
   "metadata": {},
   "source": [
    "### Objetivo: \n",
    "####   Criar uma urna eletrônica em Python para realizar uma simulação de votação entre candidatos fictícios na escola SENAI Morvan Figueiredo."
   ]
  },
  {
   "cell_type": "markdown",
   "id": "ca4c538c",
   "metadata": {},
   "source": [
    "### Descrição:\n",
    "\n",
    "#### Na \"Urna Eletrônica\" que vamos desenvolver, cada grupo de alunos será responsável por construir um sistema simulado de votação. Os candidatos imaginários, e todos terão a oportunidade de exercer seu direito de voto em um ambiente virtual.\n",
    "\n",
    "### Passos da Atividade:\n",
    "\n",
    "#### Passo 1: Forme equipes no máximo 3 alunos.\n",
    "\n",
    "\n",
    "\n",
    "#### Passo 2: Criando os Candidatos e Partidos\n",
    "\n",
    "#### Criar uma lista de candidatos fictícios, atribuindo a cada um um nome, número e partido imaginário.\n",
    "\n",
    "#### Passo 3: Simulando a Votação\n",
    "\n",
    "#### Implemente um loop de votação que permita que os alunos escolham um candidato apenas pelo número.\n",
    "#### Use um dicionário para registrar a quantidade de votos que cada candidato recebeu.\n",
    "\n",
    "#### Passo 4: Contagem e Anúncio dos Resultados\n",
    "\n",
    "#### Ao encerrar a votação, exiba um relatório com os resultados da votação.\n",
    "#### Mostre os candidatos, seus números, partidos e a quantidade de votos recebidos por cada um.\n",
    "#### Anuncie o candidato vencedor, aquele que recebeu mais votos."
   ]
  },
  {
   "cell_type": "markdown",
   "id": "35ef61ec",
   "metadata": {},
   "source": [
    "### Lembrete: \n",
    "#### Esta atividade não é apenas sobre programar, mas também sobre compreender a importância das eleições, trabalhar em equipe e aplicar conceitos de programação em cenários do mundo real. "
   ]
  },
  {
   "cell_type": "code",
   "execution_count": null,
   "id": "92bb3c4c",
   "metadata": {},
   "outputs": [
    {
     "name": "stdout",
     "output_type": "stream",
     "text": [
      "\n",
      "Escolha uma opção para melhorar a democracia:\n",
      "1 - Cadastro de candidatos\n",
      "2 - Votar em um candidato\n",
      "3 - Encerrar programa\n",
      "Digite o número da opção desejada: 1\n",
      "Digite o nome do candidato: king\n",
      "Digite o número do candidato: 14\n",
      "Digite o partido do candidato: pd\n",
      "Candidato king do partido pd foi cadastrado com sucesso!\n",
      "\n",
      "Escolha uma opção para melhorar a democracia:\n",
      "1 - Cadastro de candidatos\n",
      "2 - Votar em um candidato\n",
      "3 - Encerrar programa\n",
      "Digite o número da opção desejada: 2\n",
      "Candidatos disponíveis para votação:\n",
      "14 - king (pd)\n",
      "Digite o número do candidato em quem deseja votar: 14\n",
      "Voto registrado para o candidato king do partido pd!\n",
      "\n",
      "Escolha uma opção para melhorar a democracia:\n",
      "1 - Cadastro de candidatos\n",
      "2 - Votar em um candidato\n",
      "3 - Encerrar programa\n",
      "Digite o número da opção desejada: 3\n",
      "Resultados finais:\n",
      "Candidato: king do partido pd - Votos: 1\n",
      "O programa está sendo finalizado.\n"
     ]
    }
   ],
   "source": [
    "# Urna eletrônica para votação de do Presidente da República do Congo.\n",
    "\n",
    "import time\n",
    "\n",
    "candidatos = []\n",
    "\n",
    "def menu():\n",
    "    while True:\n",
    "        print(\"\\nEscolha uma opção para melhorar a democracia:\")\n",
    "        print(\"1 - Cadastro de candidatos\")\n",
    "        print(\"2 - Votar em um candidato\")\n",
    "        print(\"3 - Encerrar programa\")\n",
    "        \n",
    "        escolha = int(input(\"Digite o número da opção desejada: \"))\n",
    "\n",
    "        if escolha == 1:\n",
    "            cadastrar_candidato()\n",
    "        elif escolha == 2:\n",
    "            votar()\n",
    "        elif escolha == 3:\n",
    "            encerrar_programa()\n",
    "            break\n",
    "        else:\n",
    "            print('Opção inválida. Tente novamente.')\n",
    "\n",
    "def cadastrar_candidato():\n",
    "    nome = input('Digite o nome do candidato: ')\n",
    "    numero = input('Digite o número do candidato: ')\n",
    "    partido = input('Digite o partido do candidato: ')\n",
    "    if not nome or not numero or not partido:\n",
    "        print('Todos os campos são obrigatórios. Tente novamente.')\n",
    "        return\n",
    "    try:\n",
    "        numero = int(numero)\n",
    "    except ValueError:\n",
    "        print('O número do candidato deve ser um número inteiro. Tente novamente.')\n",
    "        return\n",
    "    candidatos.append({\n",
    "        \"nome\": nome,\n",
    "        \"numero\": numero,\n",
    "        \"partido\": partido,\n",
    "        \"votos\": 0\n",
    "    })\n",
    "    print(f\"Candidato {nome} do partido {partido} foi cadastrado com sucesso!\")\n",
    "\n",
    "def votar():\n",
    "    if not candidatos:\n",
    "        print(\"Não há candidatos cadastrados.\")\n",
    "        return\n",
    "\n",
    "    print(\"Candidatos disponíveis para votação:\")\n",
    "    for candidato in candidatos:\n",
    "        print(f\"{candidato['numero']} - {candidato['nome']} ({candidato['partido']})\")\n",
    "\n",
    "    numero_escolhido = int(input(\"Digite o número do candidato em quem deseja votar: \"))\n",
    "\n",
    "    candidato_encontrado = False\n",
    "    for candidato in candidatos:\n",
    "        if candidato['numero'] == numero_escolhido:\n",
    "            candidato['votos'] += 1\n",
    "            print(f\"Voto registrado para o candidato {candidato['nome']} do partido {candidato['partido']}!\")\n",
    "            candidato_encontrado = True\n",
    "            break\n",
    "    \n",
    "    if not candidato_encontrado:\n",
    "        print(\"Candidato não encontrado. Voto não registrado.\")\n",
    "\n",
    "def encerrar_programa():\n",
    "    time.sleep(1.5)\n",
    "    print(\"Resultados finais:\")\n",
    "    \n",
    "    maior_numero_de_votos = 0\n",
    "    vencedor = None\n",
    "    \n",
    "    for candidato in candidatos:\n",
    "        print(f\"Candidato: {candidato['nome']} do partido {candidato['partido']} - Votos: {candidato['votos']}\")\n",
    "        \n",
    "        if candidato['votos'] > maior_numero_de_votos:\n",
    "            maior_numero_de_votos = candidato['votos']\n",
    "            vencedor = candidato\n",
    "    \n",
    "    time.sleep(1.5)\n",
    "    \n",
    "    if vencedor:\n",
    "        print(f\"\\nO vencedor da eleição é: {vencedor['nome']} do partido {vencedor['partido']} com {vencedor['votos']} votos!\")\n",
    "    else:\n",
    "        print(\"\\nNenhum candidato recebeu votos. Não há vencedor nesta eleição.\")\n",
    "    \n",
    "    print('A urna está sendo encerrada. Obrigado por participar dessa festa da democracia!')\n",
    "    \n",
    "menu()"
   ]
  },
  {
   "cell_type": "code",
   "execution_count": null,
   "id": "a7b64e9b",
   "metadata": {},
   "outputs": [],
   "source": []
  },
  {
   "cell_type": "code",
   "execution_count": null,
   "id": "2240716e",
   "metadata": {},
   "outputs": [],
   "source": []
  }
 ],
 "metadata": {
  "kernelspec": {
   "display_name": "Python 3 (ipykernel)",
   "language": "python",
   "name": "python3"
  },
  "language_info": {
   "codemirror_mode": {
    "name": "ipython",
    "version": 3
   },
   "file_extension": ".py",
   "mimetype": "text/x-python",
   "name": "python",
   "nbconvert_exporter": "python",
   "pygments_lexer": "ipython3",
   "version": "3.11.3"
  }
 },
 "nbformat": 4,
 "nbformat_minor": 5
}
