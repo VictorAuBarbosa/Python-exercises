{
 "cells": [
  {
   "cell_type": "markdown",
   "metadata": {},
   "source": [
    "# Exercícios\n",
    "\n",
    "São exercícios bem parecidos com os que fizemos com listas. Mas na tupla, podemos não só trabalhar com índices, mas fazer o \"unpacking\" das tuplas, o que pode facilitar nossos códigos.\n",
    "\n",
    "## 1. Análise de Vendas\n",
    "\n",
    "Nesse exercício vamos fazer uma \"análise simples\" de atingimento de Meta.\n",
    "\n",
    "Temos uma lista com os vendedores e os valores de vendas e queremos identificar (printar) quais os vendedores que bateram a meta e qual foi o valor que eles venderam."
   ]
  },
  {
   "cell_type": "code",
   "execution_count": 4,
   "metadata": {},
   "outputs": [
    {
     "name": "stdout",
     "output_type": "stream",
     "text": [
      "O vendedor João bateu a meta, com um valor de vendas de R$15000.\n",
      "O vendedor Julia bateu a meta, com um valor de vendas de R$27000.\n",
      "O vendedor Ana bateu a meta, com um valor de vendas de R$10300.\n"
     ]
    }
   ],
   "source": [
    "meta = 10000\n",
    "vendas = [\n",
    "    ('João', 15000),\n",
    "    ('Julia', 27000),\n",
    "    ('Marcus', 9900),\n",
    "    ('Maria', 3750),\n",
    "    ('Ana', 10300),\n",
    "    ('Alon Musk', 7870),\n",
    "]\n",
    "\n",
    "for vendedor, valor_venda in vendas:\n",
    "    if valor_venda >= meta:\n",
    "        print(f\"O vendedor {vendedor} bateu a meta, com um valor de vendas de R${valor_venda}.\")"
   ]
  },
  {
   "cell_type": "markdown",
   "metadata": {},
   "source": [
    "## 2. Comparação com Ano Anterior\n",
    "\n",
    "Digamos que você está analisando as vendas de produtos de um ecommerce e quer identificar quais produtos tiveram no ano de 2020 mais vendas do que no ano de 2019, para reportar isso para a diretoria.\n",
    "\n",
    "Sua resposta pode ser um print de cada produto, qual foi a venda de 2019, a venda de 2020 e o % de crescimento de 2020 para 2019.\n",
    "\n",
    "Lembrando, para calcular o % de crescimento de um produto de um ano para o outro, podemos fazer: (vendas_produto2020/vendas_produto2019 - 1)\n",
    "\n",
    "A lógica da tupla é: (produto, vendas2019, vendas2020)"
   ]
  },
  {
   "cell_type": "code",
   "execution_count": 7,
   "metadata": {},
   "outputs": [
    {
     "name": "stdout",
     "output_type": "stream",
     "text": [
      "Produtos com mais vendas em 2020 do que em 2019:\n",
      "Produto: iphone\n",
      "Vendas em 2019: 558147\n",
      "Vendas em 2020: 951642\n",
      "Crescimento percentual: 70.50%\n",
      "\n",
      "Produto: tv\n",
      "Vendas em 2019: 405252\n",
      "Vendas em 2020: 787604\n",
      "Crescimento percentual: 94.35%\n",
      "\n",
      "Produto: máquina de café\n",
      "Vendas em 2019: 718654\n",
      "Vendas em 2020: 867660\n",
      "Crescimento percentual: 20.73%\n",
      "\n",
      "Produto: notebook dell\n",
      "Vendas em 2019: 422760\n",
      "Vendas em 2020: 694913\n",
      "Crescimento percentual: 64.38%\n",
      "\n",
      "Produto: notebook hp\n",
      "Vendas em 2019: 154753\n",
      "Vendas em 2020: 539704\n",
      "Crescimento percentual: 248.75%\n",
      "\n",
      "Produto: microsoft surface\n",
      "Vendas em 2019: 438508\n",
      "Vendas em 2020: 667179\n",
      "Crescimento percentual: 52.15%\n",
      "\n",
      "Produto: webcam\n",
      "Vendas em 2019: 237467\n",
      "Vendas em 2020: 295633\n",
      "Crescimento percentual: 24.49%\n",
      "\n",
      "Produto: caixa de som\n",
      "Vendas em 2019: 489705\n",
      "Vendas em 2020: 725316\n",
      "Crescimento percentual: 48.11%\n",
      "\n",
      "Produto: microfone\n",
      "Vendas em 2019: 328311\n",
      "Vendas em 2020: 644622\n",
      "Crescimento percentual: 96.34%\n",
      "\n",
      "Produto: câmera canon\n",
      "Vendas em 2019: 591120\n",
      "Vendas em 2020: 994303\n",
      "Crescimento percentual: 68.21%\n",
      "\n"
     ]
    }
   ],
   "source": [
    "vendas_produtos = [('iphone', 558147, 951642), ('galaxy', 712350, 244295), ('ipad', 573823, 26964), ('tv', 405252, 787604), ('máquina de café', 718654, 867660), ('kindle', 531580, 78830), ('geladeira', 973139, 710331), ('adega', 892292, 646016), ('notebook dell', 422760, 694913), ('notebook hp', 154753, 539704), ('notebook asus', 887061, 324831), ('microsoft surface', 438508, 667179), ('webcam', 237467, 295633), ('caixa de som', 489705, 725316), ('microfone', 328311, 644622), ('câmera canon', 591120, 994303)]\n",
    "\n",
    "print(\"Produtos com mais vendas em 2020 do que em 2019:\")\n",
    "\n",
    "for produto, vendas2019, vendas2020 in vendas_produtos:\n",
    "    crescimento_percentual = ((vendas2020 / vendas2019) - 1) * 100\n",
    "    \n",
    "    if vendas2020 > vendas2019:\n",
    "        print(f\"Produto: {produto}\")\n",
    "        print(f\"Vendas em 2019: {vendas2019}\")\n",
    "        print(f\"Vendas em 2020: {vendas2020}\")\n",
    "        print(f\"Crescimento percentual: {crescimento_percentual:.2f}%\")\n",
    "        print()"
   ]
  },
  {
   "cell_type": "code",
   "execution_count": null,
   "metadata": {},
   "outputs": [],
   "source": []
  }
 ],
 "metadata": {
  "kernelspec": {
   "display_name": "Python 3 (ipykernel)",
   "language": "python",
   "name": "python3"
  },
  "language_info": {
   "codemirror_mode": {
    "name": "ipython",
    "version": 3
   },
   "file_extension": ".py",
   "mimetype": "text/x-python",
   "name": "python",
   "nbconvert_exporter": "python",
   "pygments_lexer": "ipython3",
   "version": "3.11.3"
  }
 },
 "nbformat": 4,
 "nbformat_minor": 4
}
