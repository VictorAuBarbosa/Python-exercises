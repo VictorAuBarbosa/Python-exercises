{
 "cells": [
  {
   "cell_type": "markdown",
   "id": "2fe9bf14",
   "metadata": {},
   "source": [
    "# Exercios de Tuplas "
   ]
  },
  {
   "cell_type": "markdown",
   "id": "8a3b69e2",
   "metadata": {},
   "source": [
    "## Vamos explorar a utilidade das tuplas e como elas podem ser aplicadas em várias situações. As tuplas são estruturas de dados imutáveis que permitem armazenar múltiplos elementos de diferentes tipos, tornando-as ideais para representar informações relacionadas de maneira organizada.\n",
    "\n",
    "### Agora, você está prestes a enfrentar um conjunto de desafios práticos que envolvem o uso de tuplas. Cada exercício foi cuidadosamente criado para ajudá-lo a consolidar seus conhecimentos sobre tuplas e aprimorar suas habilidades de resolução de problemas. Através desses exercícios, você explorará cenários do mundo real, como gerenciamento de estoque, processamento de informações, análise de dados e até mesmo a criação de pequenos jogos.\n",
    "\n",
    "### À medida que você avança pelos exercícios, lembre-se de aplicar conceitos importantes, como criação de tuplas, indexação, slicing, iteração e cálculos simples. Use sua criatividade e habilidades para encontrar soluções eficientes e elegantes para cada problema proposto. À medida que você se familiariza mais com as tuplas, você também estará desenvolvendo um entendimento mais profundo das estruturas de dados em geral, o que será valioso em suas futuras explorações na programação."
   ]
  },
  {
   "cell_type": "markdown",
   "id": "160b05d8",
   "metadata": {},
   "source": [
    "# Exercício 1: Contagem de Vogais\n",
    "### Crie uma função que recebe uma string e retorna uma tupla contendo a contagem de vogais e consoantes na string."
   ]
  },
  {
   "cell_type": "code",
   "execution_count": 3,
   "id": "2a02751e",
   "metadata": {},
   "outputs": [
    {
     "name": "stdout",
     "output_type": "stream",
     "text": [
      "Vogais: 10\n",
      "Consoantes: 10\n"
     ]
    }
   ],
   "source": [
    "vogais = \"aeiouAEIOUáêóôíéúàÁÊÓÔÍÉÚÀ\"\n",
    "texto = \"Olá, mundo! Como você está?\"\n",
    "contagem_vogais = sum(1 for char in texto if char.isalpha() and char in vogais)\n",
    "contagem_consoantes = sum(1 for char in texto if char.isalpha() and char not in vogais)\n",
    "\n",
    "print(\"Vogais:\", contagem_vogais)\n",
    "print(\"Consoantes:\", contagem_consoantes)"
   ]
  },
  {
   "cell_type": "markdown",
   "id": "0e0d3c63",
   "metadata": {},
   "source": [
    "# Exercício 2: Controle de Estoque\n",
    "### Você está gerenciando o estoque de uma loja. Crie um programa que permita adicionar novos produtos (usando tuplas para nome e preço) ao estoque e exibir o valor total do estoque."
   ]
  },
  {
   "cell_type": "code",
   "execution_count": null,
   "id": "b8babf7e",
   "metadata": {},
   "outputs": [],
   "source": [
    "estoque = []\n",
    "\n",
    "while True:\n",
    "    opcao = input(\"Escolha uma opção:\\n1 - Adicionar produto\\n2 - Exibir valor total do estoque\\n3 - Sair\\nOpção: \")\n",
    "\n",
    "    if opcao == \"1\":\n",
    "        nome_produto = input(\"Digite o nome do produto: \")\n",
    "        preco_produto = float(input(\"Digite o preço do produto: \"))\n",
    "        produto = (nome_produto, preco_produto)\n",
    "        estoque.append(produto)\n",
    "        print(\"Produto adicionado ao estoque.\")\n",
    "\n",
    "    elif opcao == \"2\":\n",
    "        valor_total = sum(produto[1] for produto in estoque)\n",
    "        print(\"Valor total do estoque:\", valor_total)\n",
    "\n",
    "    elif opcao == \"3\":\n",
    "        print(\"Encerrando o programa.\")\n",
    "        break\n",
    "\n",
    "    else:\n",
    "        print(\"Opção inválida. Por favor, escolha uma opção válida.\")"
   ]
  },
  {
   "cell_type": "markdown",
   "id": "48e600bc",
   "metadata": {},
   "source": [
    "# Exercício 3: Análise de Texto\n",
    "### Crie uma função que recebe um texto e retorna uma tupla contendo a quantidade de palavras e a quantidade média de letras por palavra."
   ]
  },
  {
   "cell_type": "code",
   "execution_count": 1,
   "id": "fbfa078b",
   "metadata": {},
   "outputs": [
    {
     "name": "stdout",
     "output_type": "stream",
     "text": [
      "Quantidade de palavras: 11\n",
      "Média de letras por palavra: 3.727272727272727\n"
     ]
    }
   ],
   "source": [
    "texto = \"Hoje em dia tem muita gente que vive durante o dia.\"\n",
    "\n",
    "palavras = texto.split()\n",
    "quantidade_palavras = len(palavras)\n",
    "total_letras = sum(len(palavra) for palavra in palavras)\n",
    "\n",
    "if quantidade_palavras == 0:\n",
    "    media_letras_por_palavra = 0\n",
    "else:\n",
    "    media_letras_por_palavra = total_letras / quantidade_palavras\n",
    "\n",
    "estatisticas = (quantidade_palavras, media_letras_por_palavra)\n",
    "print(\"Quantidade de palavras:\", estatisticas[0])\n",
    "print(\"Média de letras por palavra:\", estatisticas[1])"
   ]
  },
  {
   "cell_type": "markdown",
   "id": "680c1490",
   "metadata": {},
   "source": [
    "# Exercício 4: Divisão de Despesas\n",
    "### Você e seus amigos foram a um restaurante e agora precisam dividir a conta. Crie um programa que recebe o valor total da conta e o número de pessoas. Em seguida, calcule quanto cada pessoa deve pagar, considerando um serviço de 10% e usando uma tupla para armazenar os valores."
   ]
  },
  {
   "cell_type": "code",
   "execution_count": 3,
   "id": "a3a041b4",
   "metadata": {},
   "outputs": [
    {
     "name": "stdout",
     "output_type": "stream",
     "text": [
      "Digite o valor total da conta: 300\n",
      "Digite o número de pessoas: 6\n",
      "Valor total com taxa de serviço: 300.1\n",
      "Valor por pessoa: 50.01666666666667\n"
     ]
    }
   ],
   "source": [
    "valor_total_conta = float(input(\"Digite o valor total da conta: \"))\n",
    "numero_de_pessoas = int(input(\"Digite o número de pessoas: \"))\n",
    "\n",
    "taxa_servico = 0.10 \n",
    "valor_com_taxa = valor_total_conta * (1 + taxa_servico)\n",
    "valor_por_pessoa = valor_com_taxa / numero_de_pessoas\n",
    "\n",
    "valores_divididos = (valor_com_taxa, valor_por_pessoa)\n",
    "\n",
    "print(\"Valor total com taxa de serviço:\", valores_divididos[0])\n",
    "print(\"Valor por pessoa:\", valores_divididos[1])"
   ]
  },
  {
   "cell_type": "markdown",
   "id": "fcfb196b",
   "metadata": {},
   "source": [
    "# Exercício 5: Contagem de Ocorrências\n",
    "### Crie uma função que recebe uma lista de elementos e retorna uma tupla contendo a quantidade de ocorrências de um valor específico e a quantidade total de elementos na lista."
   ]
  },
  {
   "cell_type": "code",
   "execution_count": 4,
   "id": "af7ebb49",
   "metadata": {},
   "outputs": [
    {
     "name": "stdout",
     "output_type": "stream",
     "text": [
      "Quantidade de ocorrências do valor específico: 4\n",
      "Quantidade total de elementos na lista: 9\n"
     ]
    }
   ],
   "source": [
    "lista_elementos = [1, 2, 3, 2, 4, 2, 5, 6, 2]\n",
    "valor_especifico = 2\n",
    "\n",
    "quantidade_ocorrencias = lista_elementos.count(valor_especifico)\n",
    "\n",
    "quantidade_total_elementos = len(lista_elementos)\n",
    "\n",
    "resultado = (quantidade_ocorrencias, quantidade_total_elementos)\n",
    "\n",
    "print(\"Quantidade de ocorrências do valor específico:\", resultado[0])\n",
    "print(\"Quantidade total de elementos na lista:\", resultado[1])"
   ]
  },
  {
   "cell_type": "markdown",
   "id": "b39bd949",
   "metadata": {},
   "source": [
    "# Exercício 6: Ranking de Notas\n",
    "### Você está organizando um torneio de videogame. Crie um programa que recebe o nome e a pontuação de cada jogador e os armazena em uma lista de tuplas. Em seguida, exiba o ranking dos jogadores com base em suas pontuações."
   ]
  },
  {
   "cell_type": "code",
   "execution_count": 5,
   "id": "79465048",
   "metadata": {},
   "outputs": [
    {
     "name": "stdout",
     "output_type": "stream",
     "text": [
      "Digite o nome do jogador (ou 'fim' para encerrar): cludio\n",
      "Digite a pontuação do jogador: 10\n",
      "Digite o nome do jogador (ou 'fim' para encerrar): ronaldo\n",
      "Digite a pontuação do jogador: 9\n",
      "Digite o nome do jogador (ou 'fim' para encerrar): lebron\n",
      "Digite a pontuação do jogador: 5\n",
      "Digite o nome do jogador (ou 'fim' para encerrar): fim\n",
      "\n",
      "Ranking dos jogadores:\n",
      "1. cludio - Pontuação: 10\n",
      "2. ronaldo - Pontuação: 9\n",
      "3. lebron - Pontuação: 5\n"
     ]
    }
   ],
   "source": [
    "jogadores = []\n",
    "\n",
    "while True:\n",
    "    nome = input(\"Digite o nome do jogador (ou 'fim' para encerrar): \")\n",
    "    if nome.lower() == \"fim\":\n",
    "        break\n",
    "    \n",
    "    pontuacao = int(input(\"Digite a pontuação do jogador: \"))\n",
    "    jogadores.append((nome, pontuacao))\n",
    "\n",
    "jogadores.sort(key=lambda jogador: jogador[1], reverse=True)\n",
    "\n",
    "print(\"\\nRanking dos jogadores:\")\n",
    "for i, jogador in enumerate(jogadores, start=1):\n",
    "    print(f\"{i}. {jogador[0]} - Pontuação: {jogador[1]}\")"
   ]
  },
  {
   "cell_type": "markdown",
   "id": "9e521469",
   "metadata": {},
   "source": [
    "# Exercício 7: Processamento de Dados Meteorológicos\n",
    "### Você possui uma lista de tuplas contendo a temperatura máxima e mínima de cada dia. Crie uma função que calcule a temperatura média de toda a semana e quantos dias a temperatura máxima excedeu 30 graus."
   ]
  },
  {
   "cell_type": "code",
   "execution_count": null,
   "id": "d8510b8e",
   "metadata": {},
   "outputs": [],
   "source": [
    "temperaturas_semana = [(28, 18), (31, 20), (29, 19), (32, 21), (30, 18), (33, 22), (28, 17)]\n",
    "\n",
    "soma_temperaturas_max = 0\n",
    "dias_acima_de_30 = 0\n",
    "\n",
    "for temperatura_max, _ in temperaturas_semana:\n",
    "    soma_temperaturas_max += temperatura_max\n",
    "    if temperatura_max > 30:\n",
    "        dias_acima_de_30 += 1\n",
    "\n",
    "temperatura_media_semana = soma_temperaturas_max / len(temperaturas_semana)\n",
    "\n",
    "print(\"Temperatura média da semana:\", temperatura_media_semana)\n",
    "print(\"Dias com temperatura máxima acima de 30 graus:\", dias_acima_de_30)"
   ]
  },
  {
   "cell_type": "markdown",
   "id": "11fd016a",
   "metadata": {},
   "source": [
    "# Exercício 8: Divisão Justa\n",
    "### Você e seus amigos decidiram alugar uma casa de férias. Crie um programa que recebe o valor total do aluguel, as despesas comuns e o número de pessoas. Distribua os custos de forma justa, arredondando para cima, e retorne uma tupla com os valores que cada pessoa deve pagar."
   ]
  },
  {
   "cell_type": "code",
   "execution_count": null,
   "id": "395b6cea",
   "metadata": {},
   "outputs": [],
   "source": [
    "from math import ceil\n",
    "\n",
    "valor_total_aluguel = float(input(\"Digite o valor total do aluguel: \"))\n",
    "despesas_comuns = float(input(\"Digite o valor das despesas comuns: \"))\n",
    "numero_de_pessoas = int(input(\"Digite o número de pessoas: \"))\n",
    "\n",
    "custo_total = valor_total_aluguel + despesas_comuns\n",
    "custo_por_pessoa = ceil(custo_total / numero_de_pessoas)\n",
    "\n",
    "valores_a_pagar = (custo_por_pessoa,) * numero_de_pessoas\n",
    "\n",
    "print(\"Valor total do aluguel:\", valor_total_aluguel)\n",
    "print(\"Despesas comuns:\", despesas_comuns)\n",
    "print(\"Custo total:\", custo_total)\n",
    "print(\"Custo por pessoa:\", custo_por_pessoa)\n",
    "print(\"Valores que cada pessoa deve pagar:\", valores_a_pagar)"
   ]
  },
  {
   "cell_type": "markdown",
   "id": "fc9530d0",
   "metadata": {},
   "source": [
    "# Exercício 9: Extração de Informações de Texto\n",
    "### Dado um texto com várias informações em formato \"chave: valor\", crie uma função que extrai essas informações e as armazena em uma tupla de dicionários."
   ]
  },
  {
   "cell_type": "code",
   "execution_count": null,
   "id": "2cd026b9",
   "metadata": {},
   "outputs": [],
   "source": []
  },
  {
   "cell_type": "markdown",
   "id": "9a4a61b2",
   "metadata": {},
   "source": [
    "# Exercício 10: Jogo de Cartas\n",
    "### Crie um jogo de cartas em que dois jogadores jogam alternadamente. Cada jogador recebe uma mão de cartas (uma tupla de strings). Implemente a lógica de jogo, como verificar vitória, derrota ou empate, e exiba o resultado após cada rodada.\n",
    "\n",
    "### Esses exercícios de nível médio a difícil envolvem conceitos mais avançados de manipulação de tuplas e resolução de problemas. Eles podem ajudar a aprofundar sua compreensão das tuplas e como elas podem ser aplicadas em situações mais complexas."
   ]
  },
  {
   "cell_type": "code",
   "execution_count": null,
   "id": "ede7894e",
   "metadata": {},
   "outputs": [],
   "source": [
    "jogador1_mao = (\"Ás\", \"Rei\", \"Rainha\", \"Valete\", \"10\")\n",
    "jogador2_mao = (\"2\", \"3\", \"4\", \"5\", \"6\")\n",
    "\n",
    "rodada = 1\n",
    "\n",
    "while len(jogador1_mao) > 0 and len(jogador2_mao) > 0:\n",
    "    print(f\"Rodada {rodada}\")\n",
    "    print(\"Jogador 1 tem:\", jogador1_mao)\n",
    "    print(\"Jogador 2 tem:\", jogador2_mao)\n",
    "    \n",
    "    carta_jogador1 = jogador1_mao[0]\n",
    "    carta_jogador2 = jogador2_mao[0]\n",
    "    \n",
    "    print(\"Jogador 1 jogou:\", carta_jogador1)\n",
    "    print(\"Jogador 2 jogou:\", carta_jogador2)\n",
    "    \n",
    "    if carta_jogador1 > carta_jogador2:\n",
    "        print(\"Jogador 1 venceu a rodada!\")\n",
    "        jogador1_mao = jogador1_mao[1:] + (carta_jogador1,)\n",
    "        jogador2_mao = jogador2_mao[1:]\n",
    "    elif carta_jogador2 > carta_jogador1:\n",
    "        print(\"Jogador 2 venceu a rodada!\")\n",
    "        jogador2_mao = jogador2_mao[1:] + (carta_jogador2,)\n",
    "        jogador1_mao = jogador1_mao[1:]\n",
    "    else:\n",
    "        print(\"Empate!\")\n",
    "        jogador1_mao = jogador1_mao[1:]\n",
    "        jogador2_mao = jogador2_mao[1:]\n",
    "    \n",
    "    rodada += 1\n",
    "    input(\"Pressione Enter para continuar para a próxima rodada...\")\n",
    "    print(\"\\n\")\n",
    "\n",
    "if len(jogador1_mao) > len(jogador2_mao):\n",
    "    print(\"Jogador 1 venceu o jogo!\")\n",
    "elif len(jogador2_mao) > len(jogador1_mao):\n",
    "    print(\"Jogador 2 venceu o jogo!\")\n",
    "else:\n",
    "    print(\"O jogo terminou em empate!\")"
   ]
  }
 ],
 "metadata": {
  "kernelspec": {
   "display_name": "Python 3 (ipykernel)",
   "language": "python",
   "name": "python3"
  },
  "language_info": {
   "codemirror_mode": {
    "name": "ipython",
    "version": 3
   },
   "file_extension": ".py",
   "mimetype": "text/x-python",
   "name": "python",
   "nbconvert_exporter": "python",
   "pygments_lexer": "ipython3",
   "version": "3.11.3"
  }
 },
 "nbformat": 4,
 "nbformat_minor": 5
}
