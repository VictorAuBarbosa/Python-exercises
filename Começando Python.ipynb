{
 "cells": [
  {
   "cell_type": "markdown",
   "id": "591fda2a",
   "metadata": {},
   "source": [
    "Aprendendo Python"
   ]
  },
  {
   "cell_type": "code",
   "execution_count": 19,
   "id": "0f681c2d",
   "metadata": {},
   "outputs": [
    {
     "name": "stdout",
     "output_type": "stream",
     "text": [
      "Digite o primeiro número para calcular a média10\n",
      "Digite o segundo número para calcular a média20\n",
      "Digite o terceiro número para calcular a média30\n",
      "A média entre esses números é20.0\n"
     ]
    }
   ],
   "source": [
    "numeroUm = input('Digite o primeiro número para calcular a média')\n",
    "numeroUm = int(numeroUm)\n",
    "\n",
    "numeroDois = input('Digite o segundo número para calcular a média')\n",
    "numeroDois = int(numeroDois)\n",
    "\n",
    "numeroTres = input('Digite o terceiro número para calcular a média')\n",
    "numeroTres = int(numeroTres)\n",
    "\n",
    "numerosoma = numeroUm + numeroDois + numeroTres\n",
    "\n",
    "resultado = numerosoma/3\n",
    "\n",
    "print('A média entre esses números é' + str(resultado))"
   ]
  },
  {
   "cell_type": "code",
   "execution_count": 20,
   "id": "950ed719",
   "metadata": {},
   "outputs": [
    {
     "name": "stdout",
     "output_type": "stream",
     "text": [
      "Digite sua altura em metro 1.72\n",
      "Digite seu peso em Kg 80\n",
      "O seu IMC é27.041644131963228\n"
     ]
    }
   ],
   "source": [
    "altura = input('Digite sua altura em metro ')\n",
    "altura = float(altura)\n",
    "\n",
    "peso = input('Digite seu peso em Kg ')\n",
    "peso = float(peso)\n",
    "\n",
    "imc = peso / (altura ** 2)\n",
    "\n",
    "print('O seu IMC é'+ str(imc))"
   ]
  },
  {
   "cell_type": "code",
   "execution_count": null,
   "id": "d46f48a7",
   "metadata": {},
   "outputs": [],
   "source": []
  }
 ],
 "metadata": {
  "kernelspec": {
   "display_name": "Python 3 (ipykernel)",
   "language": "python",
   "name": "python3"
  },
  "language_info": {
   "codemirror_mode": {
    "name": "ipython",
    "version": 3
   },
   "file_extension": ".py",
   "mimetype": "text/x-python",
   "name": "python",
   "nbconvert_exporter": "python",
   "pygments_lexer": "ipython3",
   "version": "3.11.3"
  }
 },
 "nbformat": 4,
 "nbformat_minor": 5
}
