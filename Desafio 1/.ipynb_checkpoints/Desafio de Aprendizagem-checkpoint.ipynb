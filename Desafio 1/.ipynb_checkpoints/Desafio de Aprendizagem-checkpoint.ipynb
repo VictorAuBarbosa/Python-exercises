{
 "cells": [
  {
   "cell_type": "markdown",
   "id": "3ca3903d",
   "metadata": {},
   "source": [
    "# Desafio de Aprendizagem - Biblioteca SENAI \"Morvan Figueiredo\""
   ]
  },
  {
   "cell_type": "markdown",
   "id": "240591c0",
   "metadata": {},
   "source": [
    "## Você está encarregado de criar um sistema de gerenciamento de empréstimos de livros, coleta de avaliações de livros pelos alunos e registro de avaliações do atendimento da biblioteca para a Escola SENAI \"Morvan Figueiredo\". \n",
    "## Utilize o programa fornecido abaixo e siga as instruções para realizar as tarefas."
   ]
  },
  {
   "cell_type": "markdown",
   "id": "bdf3496d",
   "metadata": {},
   "source": [
    "### Ao finalizar as tarefas, reflita sobre o processo e explique como o programa demonstra o uso de estruturas de dados, iterações e interações com o usuário para gerenciar empréstimos, avaliações e atendimento da biblioteca."
   ]
  },
  {
   "cell_type": "markdown",
   "id": "0d52d3cd",
   "metadata": {},
   "source": [
    ".\n",
    ".\n",
    "\n",
    "..\n",
    ".\n",
    ".\n",
    ".\n",
    "..\n",
    ".\n",
    ".\n",
    ".\n",
    ".\n",
    ".\n",
    ".\n",
    "\n",
    ".\n",
    ".\n",
    ".\n",
    "."
   ]
  },
  {
   "cell_type": "markdown",
   "id": "7b451d37",
   "metadata": {},
   "source": [
    "### Esse desafio de aprendizagem combina os conceitos que vimos até o momento, como estruturas de controle, manipulação de dicionários, listas e iterações. Ao concluir as tarefas e a reflexão, você estará aplicando diversos aspectos da programação em um cenário realista."
   ]
  },
  {
   "cell_type": "markdown",
   "id": "bd33428b",
   "metadata": {},
   "source": [
    "## Tarefas:"
   ]
  },
  {
   "cell_type": "markdown",
   "id": "8ea15f61",
   "metadata": {},
   "source": [
    "## 1 - Registro de Empréstimos:\n",
    "\n",
    "### Registre os empréstimos de livros para os  alunos fictícios da escola.\n",
    "## 2 -  Avaliação de Livros:\n",
    "\n",
    "### Após os empréstimos, simule que os alunos leram os livros e atribua notas de avaliação aos livros emprestados.\n",
    "\n",
    "## 3 - Avaliação do Atendimento da Biblioteca:\n",
    "\n",
    "###  Registre avaliações do atendimento da biblioteca por parte dos alunos.\n",
    "\n",
    "## 4 - Imprimir Relatório:\n",
    "\n",
    "### Após realizar as ações anteriores, imprima um relatório que apresente as informações sobre os empréstimos, avaliações dos livros e a média das avaliações do atendimento da biblioteca.\n"
   ]
  },
  {
   "cell_type": "code",
   "execution_count": 5,
   "id": "e2b41de2",
   "metadata": {},
   "outputs": [
    {
     "name": "stdout",
     "output_type": "stream",
     "text": [
      "Digite seu nome: Victor\n",
      "Digite o nome do livro que você deseja retirar: O Pequeno Princeso\n",
      "O empréstimo do livro O Pequeno Princeso foi bem-sucedido, Victor! Se demorar para devolver já sabe né...\n"
     ]
    }
   ],
   "source": [
    "# Registro de empréstimos.\n",
    "\n",
    "emprestimos = {}\n",
    "\n",
    "aluno = str(input('Digite seu nome: '))\n",
    "livro = str(input('Digite o nome do livro que você deseja retirar: '))\n",
    "\n",
    "if aluno in emprestimos:\n",
    "    emprestimos[aluno].append(livro)\n",
    "else:\n",
    "    emprestimos[aluno] = [livro]\n",
    "\n",
    "chaves_lista = list(emprestimos.keys())\n",
    "\n",
    "chaves_formatadas = ', '.join(chaves_lista)\n",
    "\n",
    "print('O empréstimo do livro {} foi bem-sucedido, {}! Se demorar para devolver já sabe né...'.format(livro, chaves_formatadas))"
   ]
  },
  {
   "cell_type": "code",
   "execution_count": 10,
   "id": "5d1189f0",
   "metadata": {},
   "outputs": [
    {
     "name": "stdout",
     "output_type": "stream",
     "text": [
      "Você terminou a leitura do livro? sim\n",
      "Qual livro você leu? O Pequeno Princeso\n",
      "Qual nota você daria para o livro O Pequeno Princeso? asd\n",
      "Por favor, digite um número válido.\n",
      "Você terminou a leitura do livro? sim\n",
      "Qual livro você leu? O Pequeno Princeso\n",
      "Qual nota você daria para o livro O Pequeno Princeso? 90\n",
      "Por favor, digite um número de 1 a 10.\n",
      "Você terminou a leitura do livro? sim\n",
      "Qual livro você leu? O Pequeno Princeso\n",
      "Qual nota você daria para o livro O Pequeno Princeso? 9\n",
      "Avaliações dos livros: {'O Pequeno Princeso': 9}\n"
     ]
    }
   ],
   "source": [
    "# Avaliação de livros\n",
    "\n",
    "livroNota = {}\n",
    "\n",
    "while True:\n",
    "    confirmacao = input('Você terminou a leitura do livro? ')\n",
    "    \n",
    "    if confirmacao.lower() == \"sim\":\n",
    "        livro = input('Qual livro você leu? ')\n",
    "        avaliacaoLivro = input('Qual nota você daria para o livro {}? '.format(livro))\n",
    "        \n",
    "        if avaliacaoLivro.isdigit():\n",
    "            notaLivro = int(avaliacaoLivro)\n",
    "            if 1 <= notaLivro <= 10:  # Use notaLivro em vez de nota\n",
    "                livroNota[livro] = notaLivro  # Adiciona a avaliação ao dicionário\n",
    "                break\n",
    "            else:\n",
    "                print('Por favor, digite um número de 1 a 10.')\n",
    "        else:\n",
    "            print('Por favor, digite um número válido.')\n",
    "            \n",
    "    elif confirmacao.lower() == \"não\":\n",
    "        print(\"Vai ler então!\")\n",
    "        break\n",
    "    else:\n",
    "        print(\"Resposta inválida. Por favor, responda 'Sim' ou 'Não'.\")\n",
    "\n",
    "print(\"Avaliações dos livros:\", livroNota)"
   ]
  },
  {
   "cell_type": "code",
   "execution_count": 7,
   "id": "7396d8db",
   "metadata": {},
   "outputs": [
    {
     "name": "stdout",
     "output_type": "stream",
     "text": [
      "Avalie o atendimento dando uma nota de 1 - 10: a\n",
      "Por favor, digite um número válido.\n",
      "Avalie o atendimento dando uma nota de 1 - 10: 8\n",
      "A média das notas de atendimento é: 8.0\n"
     ]
    }
   ],
   "source": [
    "# Avaliação do Atendimento\n",
    "\n",
    "notaAtendimento = []\n",
    "\n",
    "while True:\n",
    "    atendimento = input('Avalie o atendimento dando uma nota de 1 - 10: ')\n",
    "\n",
    "    if atendimento.isdigit():\n",
    "        nota = int(atendimento)\n",
    "        if 1 <= nota <= 10:\n",
    "            notaAtendimento.append(nota)\n",
    "            break\n",
    "        else:\n",
    "            print('Por favor, digite um número de 1 a 10.')\n",
    "    else:\n",
    "        print('Por favor, digite um número válido.')\n",
    "\n",
    "mediaNota = sum(notaAtendimento) / len(notaAtendimento)\n",
    "print('A média das notas de atendimento é:', mediaNota)"
   ]
  },
  {
   "cell_type": "code",
   "execution_count": 11,
   "id": "c24c5096",
   "metadata": {},
   "outputs": [
    {
     "name": "stdout",
     "output_type": "stream",
     "text": [
      "Esses foram os emprestimos de hoje:  {'Victor': ['O Pequeno Princeso']}\n",
      "Essas são as notas dos livros avaliados pelos alunos:  {'O Pequeno Princeso': 9}\n",
      "Essas é a média de notas do atendimeno utilizado pelos alunos:  8.0\n"
     ]
    }
   ],
   "source": [
    "# Impressão de relatório\n",
    "\n",
    "print('Esses foram os emprestimos de hoje: ', emprestimos)\n",
    "print('Essas são as notas dos livros avaliados pelos alunos: ', livroNota)\n",
    "print('Essas é a média de notas do atendimeno utilizado pelos alunos: ', mediaNota)"
   ]
  },
  {
   "cell_type": "code",
   "execution_count": null,
   "id": "7bb833a8",
   "metadata": {},
   "outputs": [],
   "source": []
  }
 ],
 "metadata": {
  "kernelspec": {
   "display_name": "Python 3 (ipykernel)",
   "language": "python",
   "name": "python3"
  },
  "language_info": {
   "codemirror_mode": {
    "name": "ipython",
    "version": 3
   },
   "file_extension": ".py",
   "mimetype": "text/x-python",
   "name": "python",
   "nbconvert_exporter": "python",
   "pygments_lexer": "ipython3",
   "version": "3.11.3"
  }
 },
 "nbformat": 4,
 "nbformat_minor": 5
}
