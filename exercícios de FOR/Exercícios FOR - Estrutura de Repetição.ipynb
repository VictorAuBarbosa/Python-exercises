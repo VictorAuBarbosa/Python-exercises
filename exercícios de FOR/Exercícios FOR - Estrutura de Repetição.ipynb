{
 "cells": [
  {
   "cell_type": "markdown",
   "id": "9dd4c2d2",
   "metadata": {},
   "source": [
    "# Lista de Exercícios \n",
    "\n",
    "## Estrutura de Repetições \n",
    "\n",
    "\n",
    "# \n",
    "\n",
    "#\n"
   ]
  },
  {
   "cell_type": "markdown",
   "id": "a11e7125",
   "metadata": {},
   "source": [
    "# Exercício 1:\n",
    "## Situação Problema: Um professor deseja imprimir na tela os números pares de 0 a 10 para ensinar os alunos sobre os conceitos de números pares e o uso da estrutura de repetição for."
   ]
  },
  {
   "cell_type": "code",
   "execution_count": null,
   "id": "70b32ec8",
   "metadata": {},
   "outputs": [],
   "source": [
    "for num in range(0, 11, 2):\n",
    "    print(num)"
   ]
  },
  {
   "cell_type": "markdown",
   "id": "774c24f7",
   "metadata": {},
   "source": [
    "# Exercício 2:\n",
    "## Situação Problema: Um vendedor de frutas quer mostrar ao cliente as frutas disponíveis em sua banca. Ele possui uma lista de nomes de frutas e deseja imprimir cada nome em uma linha separada para facilitar a visualização."
   ]
  },
  {
   "cell_type": "code",
   "execution_count": null,
   "id": "2355128b",
   "metadata": {},
   "outputs": [],
   "source": [
    "frutas = ['maçã', 'banana', 'laranja', 'morango', 'uva']\n",
    "for fruta in frutas:\n",
    "    print(fruta)\n"
   ]
  },
  {
   "cell_type": "markdown",
   "id": "4a8789d6",
   "metadata": {},
   "source": [
    "# Exercício 3:\n",
    "## Situação Problema: Uma criança está aprendendo a tabuada e precisa praticar a tabuada de um número específico. O programa pede à criança para digitar um número e, em seguida, imprime a tabuada desse número de 1 a 10 para ajudá-la a praticar."
   ]
  },
  {
   "cell_type": "code",
   "execution_count": null,
   "id": "4fe9fcc5",
   "metadata": {},
   "outputs": [],
   "source": [
    "numero = int(input(\"Digite um número: \"))\n",
    "for i in range(1, 11):\n",
    "    print(f\"{numero} x {i} = {numero * i}\")"
   ]
  },
  {
   "cell_type": "markdown",
   "id": "73292b54",
   "metadata": {},
   "source": [
    "# Exercício 4:\n",
    "## Situação Problema: Um cientista está analisando dados experimentais e deseja saber o valor e a posição de cada leitura registrada. O programa recebe uma lista de números, e o cientista precisa imprimir cada valor junto com sua respectiva posição na lista."
   ]
  },
  {
   "cell_type": "code",
   "execution_count": null,
   "id": "efd1518c",
   "metadata": {},
   "outputs": [],
   "source": [
    "numeros = [10, 20, 30, 40, 50]\n",
    "for indice, valor in enumerate(numeros):\n",
    "    print(f\"Índice: {indice}, Valor: {valor}\")"
   ]
  },
  {
   "cell_type": "markdown",
   "id": "dfa079f6",
   "metadata": {},
   "source": [
    "# Exercício 5:\n",
    "## Situação Problema: Um caixa de supermercado precisa calcular o total de uma compra. Ele registra o preço de cada produto em uma lista e, em seguida, usa um loop for para somar todos os preços e obter o valor total da compra."
   ]
  },
  {
   "cell_type": "code",
   "execution_count": null,
   "id": "4022ade0",
   "metadata": {},
   "outputs": [],
   "source": [
    "numeros = [1, 2, 3, 4, 5]\n",
    "soma = 0\n",
    "for numero in numeros:\n",
    "    soma += numero\n",
    "print(f\"Soma dos números: {soma}\")\n"
   ]
  },
  {
   "cell_type": "markdown",
   "id": "e133fb36",
   "metadata": {},
   "source": [
    "# Exercício 6:\n",
    "## Situação Problema: Um professor quer ensinar aos alunos como contar as vogais em uma frase. O programa pede ao aluno para digitar uma frase e, em seguida, conta quantas vogais existem nessa frase, mostrando o resultado na tela."
   ]
  },
  {
   "cell_type": "code",
   "execution_count": null,
   "id": "e76888d1",
   "metadata": {},
   "outputs": [],
   "source": [
    "frase = input(\"Digite uma frase: \")\n",
    "vogais = 'aeiouAEIOU'\n",
    "contador = 0\n",
    "for letra in frase:\n",
    "    if letra in vogais:\n",
    "        contador += 1\n",
    "print(f\"Total de vogais na frase: {contador}\")\n"
   ]
  },
  {
   "cell_type": "markdown",
   "id": "9f19b6dc",
   "metadata": {},
   "source": [
    "# Exercício 7:\n",
    "## Situação Problema: Um jogador está jogando um jogo de adivinhação e precisa descobrir o número mais alto dentre várias tentativas. O programa recebe uma lista de números inseridos pelo jogador e exibe o maior número após todas as tentativas."
   ]
  },
  {
   "cell_type": "code",
   "execution_count": null,
   "id": "c325a255",
   "metadata": {},
   "outputs": [],
   "source": [
    "numeros = [5, 10, 3, 8, 15, 12]\n",
    "maior_valor = numeros[0]\n",
    "for numero in numeros:\n",
    "    if numero > maior_valor:\n",
    "        maior_valor = numero\n",
    "print(f\"Maior valor na lista: {maior_valor}\")\n"
   ]
  },
  {
   "cell_type": "markdown",
   "id": "d8bdadbe",
   "metadata": {},
   "source": [
    "# Exercício 9:\n",
    "## Situação Problema: Um professor deseja ensinar o alfabeto para seus alunos. O programa pede ao aluno para digitar uma palavra e, em seguida, exibe cada letra da palavra em uma linha separada para ajudar os alunos a praticarem o reconhecimento das letras."
   ]
  },
  {
   "cell_type": "code",
   "execution_count": null,
   "id": "19e9a80c",
   "metadata": {},
   "outputs": [],
   "source": [
    "palavra = input(\"Digite uma palavra: \")\n",
    "for letra in palavra:\n",
    "    print(letra)\n"
   ]
  }
 ],
 "metadata": {
  "kernelspec": {
   "display_name": "Python 3 (ipykernel)",
   "language": "python",
   "name": "python3"
  },
  "language_info": {
   "codemirror_mode": {
    "name": "ipython",
    "version": 3
   },
   "file_extension": ".py",
   "mimetype": "text/x-python",
   "name": "python",
   "nbconvert_exporter": "python",
   "pygments_lexer": "ipython3",
   "version": "3.11.3"
  }
 },
 "nbformat": 4,
 "nbformat_minor": 5
}
